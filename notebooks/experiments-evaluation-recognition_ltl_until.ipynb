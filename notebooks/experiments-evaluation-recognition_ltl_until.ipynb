{
 "cells": [
  {
   "cell_type": "markdown",
   "metadata": {},
   "source": [
    "# Experimental Evaluation: \n",
    "## Goal Recognition in FOND using Goals Formalized in LTLf (Until)"
   ]
  },
  {
   "cell_type": "code",
   "execution_count": 106,
   "metadata": {},
   "outputs": [],
   "source": [
    "BASE_DIR = '../fond-recognition-benchmarks'"
   ]
  },
  {
   "cell_type": "code",
   "execution_count": 107,
   "metadata": {},
   "outputs": [],
   "source": [
    "import os\n",
    "import sys\n",
    "import pandas as pd\n",
    "import glob\n",
    "import json\n",
    "import numpy as np\n",
    "import itertools"
   ]
  },
  {
   "cell_type": "code",
   "execution_count": 108,
   "metadata": {},
   "outputs": [],
   "source": [
    "def compute_posterior(index, prob, priors):\n",
    "    num = prob[index] * priors[index]\n",
    "    denom = np.sum(prob*priors)\n",
    "    return num / denom"
   ]
  },
  {
   "cell_type": "code",
   "execution_count": 109,
   "metadata": {
    "scrolled": false
   },
   "outputs": [],
   "source": [
    "RESULTS_DIR = os.path.join(BASE_DIR, 'results/')"
   ]
  },
  {
   "cell_type": "code",
   "execution_count": 110,
   "metadata": {},
   "outputs": [],
   "source": [
    "domains_evaluation = ['blocksworld', 'logistics', 'tidyup', 'tireworld', 'triangle-tireworld', 'zenotravel']\n",
    "type_goal = 'ltl_until'\n",
    "json_files = []\n",
    "for domain in domains_evaluation:\n",
    "    files = glob.glob(os.path.join(RESULTS_DIR + '/' + domain + '/' + type_goal, '*.json'))\n",
    "    for f in files:\n",
    "        json_files.append(f)"
   ]
  },
  {
   "cell_type": "code",
   "execution_count": 111,
   "metadata": {},
   "outputs": [
    {
     "name": "stdout",
     "output_type": "stream",
     "text": [
      "Results found: 312\n"
     ]
    }
   ],
   "source": [
    "print(\"Results found:\", len(json_files))"
   ]
  },
  {
   "cell_type": "markdown",
   "metadata": {},
   "source": [
    "# Results Collection"
   ]
  },
  {
   "cell_type": "code",
   "execution_count": 112,
   "metadata": {},
   "outputs": [
    {
     "name": "stdout",
     "output_type": "stream",
     "text": [
      "../fond-recognition-benchmarks/results//blocksworld/ltl_until/blocksworld_ltl2_p01_hyp-2_50_2.json\n",
      "blocksworld_ltl2_p01_hyp-2_50_2.json\n"
     ]
    }
   ],
   "source": [
    "print(json_files[0])\n",
    "print(os.path.basename(json_files[0]))\n",
    "filename, ext = os.path.basename(json_files[0]).split('.')"
   ]
  },
  {
   "cell_type": "code",
   "execution_count": 113,
   "metadata": {},
   "outputs": [],
   "source": [
    "tokens = filename.split('_')"
   ]
  },
  {
   "cell_type": "code",
   "execution_count": 114,
   "metadata": {},
   "outputs": [],
   "source": [
    "dataset = {\n",
    "    'domain' : [],\\\n",
    "    'problem' : [],\\\n",
    "    'observability' : [],\\\n",
    "    'goals' : [],\\\n",
    "    'judge_point' : [],\\\n",
    "    'obs_len' : [],\\\n",
    "    'true_goal': [],\\\n",
    "    'time': [],\\\n",
    "    'posterior': []}\n",
    "\n",
    "sum_obs_dict = dict()\n",
    "problems_obs_dict = dict()\n",
    "\n",
    "sum_goals = 0\n",
    "\n",
    "for pathname in json_files:\n",
    "    filename, ext = os.path.basename(pathname).split('.')\n",
    "    tokens = filename.split('_')\n",
    "    approach = tokens[0]\n",
    "    model_type = tokens[-1]\n",
    "    data = {}\n",
    "    with open(pathname) as instream:\n",
    "        buffer = instream.read()\n",
    "        data = json.loads(buffer)\n",
    "    #print(approach, model_type, data['domain'], data['problem'], data['observability'])\n",
    "    num_goals = len(data[\"G\"])\n",
    "    true_goal = data[\"G\"].index(data['G*'])\n",
    "    likelihoods = data['P(Obs | G)']\n",
    "    sum_goals += num_goals\n",
    "    \n",
    "    if data['observability'] in sum_obs_dict:\n",
    "        problems_obs_dict[data['observability']] += 1\n",
    "        sum_obs_dict[data['observability']] += len(data['Obs'])\n",
    "    else:\n",
    "        problems_obs_dict[data['observability']] = 1\n",
    "        sum_obs_dict[data['observability']] = len(data['Obs'])\n",
    "    \n",
    "    for k, prob_O_G in enumerate(likelihoods):\n",
    "        post_probs = [compute_posterior(j, prob_O_G, np.ones(num_goals)/num_goals) \\\n",
    "                     for j in range(len(data['G']))]\n",
    "        dataset['domain'] += [data['domain']]\n",
    "        dataset['problem'] += [data['problem']]\n",
    "        dataset['goals'] += [num_goals]\n",
    "        dataset['judge_point'] += [k]\n",
    "        dataset['obs_len'] += [len(data['Obs'])]\n",
    "        dataset['true_goal'] += [true_goal]\n",
    "        dataset['observability'] += [data['observability']]\n",
    "        dataset['time'] += [data['time']]\n",
    "        dataset['posterior'] += [np.array(post_probs)]\n",
    "\n",
    "avg_obs = 0.0\n",
    "sum_obs = 0.0\n",
    "avg_obs_observability = dict()\n",
    "for k in sum_obs_dict.keys():\n",
    "    avg = sum_obs_dict[k] / problems_obs_dict[k]\n",
    "    avg_obs_observability[k] = avg\n",
    "    sum_obs += avg\n",
    "    \n",
    "avg_obs = sum_obs / len(sum_obs_dict)\n",
    "\n",
    "avg_goals = sum_goals/len(json_files)"
   ]
  },
  {
   "cell_type": "code",
   "execution_count": 115,
   "metadata": {},
   "outputs": [],
   "source": [
    "dataset = pd.DataFrame(dataset)"
   ]
  },
  {
   "cell_type": "code",
   "execution_count": 116,
   "metadata": {},
   "outputs": [],
   "source": [
    "def compute_accuracy(dataset, top_k):\n",
    "    tp_count = 0\n",
    "    for index, row in dataset.iterrows():\n",
    "        top_k_goals = np.argpartition(row['posterior'], -top_k)[-top_k:]\n",
    "        if row['true_goal'] in top_k_goals:\n",
    "            tp_count += 1\n",
    "    return tp_count / len(dataset)"
   ]
  },
  {
   "cell_type": "code",
   "execution_count": 117,
   "metadata": {},
   "outputs": [],
   "source": [
    "def compute_recognition_time(dataset):\n",
    "    sum_time = 0\n",
    "    for index, row in dataset.iterrows():\n",
    "        sum_time += row['time']\n",
    "\n",
    "    return (sum_time / len(dataset))"
   ]
  },
  {
   "cell_type": "code",
   "execution_count": 118,
   "metadata": {},
   "outputs": [],
   "source": [
    "def compute_error_rates(dataset):\n",
    "    tpr = 0.0\n",
    "    fpr = 0.0\n",
    "    fnr = 0.0\n",
    "\n",
    "    for index, row in dataset.iterrows():\n",
    "        tp_count = 0\n",
    "        tn_count = 0\n",
    "        fp_count = 0\n",
    "        fn_count = 0\n",
    "\n",
    "        top_goal = np.argmax(row['posterior'])\n",
    "        max_goals = [ k for k, p in enumerate(row['posterior']) if p == row['posterior'][top_goal]]\n",
    "        \n",
    "        if row['true_goal'] in max_goals:\n",
    "            tp_count = 1\n",
    "        fn_count = 1 - tp_count\n",
    "        fp_count = len(max_goals) - tp_count\n",
    "        tn_count = row['goals'] - fp_count\n",
    "    \n",
    "        tpr += tp_count/(tp_count + fn_count)\n",
    "        fpr += fp_count/(fp_count + tn_count)\n",
    "        fnr += fn_count/(fn_count + tp_count)\n",
    "    return tpr/len(dataset), fpr/len(dataset), fnr/len(dataset)"
   ]
  },
  {
   "cell_type": "markdown",
   "metadata": {},
   "source": [
    "## Online Goal Recognition"
   ]
  },
  {
   "cell_type": "code",
   "execution_count": 119,
   "metadata": {},
   "outputs": [],
   "source": [
    "approaches = ['approach']\n",
    "observabilities = ['10', '25', '30', '50', '70', '75', '100']\n",
    "\n",
    "summary = {'approach': [], 'observability': [], 'top1': [], 'top2': [], 'top3': [], 'tpr' : [], 'fpr':[], 'fnr': []}\n",
    "\n",
    "for approach, observability in itertools.product(approaches, observabilities):\n",
    "    df = dataset.loc[(dataset['observability'] == observability)]\n",
    "    if len(df) == 0: \n",
    "        continue\n",
    "    top_1_acc = compute_accuracy(df, 1)\n",
    "    top_2_acc = compute_accuracy(df, 2)\n",
    "    top_3_acc = compute_accuracy(df, 3)\n",
    "    tpr, fpr, fnr = compute_error_rates(df)\n",
    "    summary['approach'] += [approach]\n",
    "    summary['observability'] += [observability]\n",
    "    summary['top1'] += [top_1_acc]\n",
    "    summary['top2'] += [top_2_acc]\n",
    "    summary['top3'] += [top_3_acc]\n",
    "    summary['tpr'] += [tpr]\n",
    "    summary['fpr'] += [fpr]\n",
    "    summary['fnr'] += [fnr]"
   ]
  },
  {
   "cell_type": "code",
   "execution_count": 120,
   "metadata": {},
   "outputs": [],
   "source": [
    "summary = pd.DataFrame(summary)"
   ]
  },
  {
   "cell_type": "code",
   "execution_count": 121,
   "metadata": {},
   "outputs": [
    {
     "data": {
      "text/html": [
       "<div>\n",
       "<style scoped>\n",
       "    .dataframe tbody tr th:only-of-type {\n",
       "        vertical-align: middle;\n",
       "    }\n",
       "\n",
       "    .dataframe tbody tr th {\n",
       "        vertical-align: top;\n",
       "    }\n",
       "\n",
       "    .dataframe thead th {\n",
       "        text-align: right;\n",
       "    }\n",
       "</style>\n",
       "<table border=\"1\" class=\"dataframe\">\n",
       "  <thead>\n",
       "    <tr style=\"text-align: right;\">\n",
       "      <th></th>\n",
       "      <th>observability</th>\n",
       "      <th>top1</th>\n",
       "      <th>top2</th>\n",
       "      <th>top3</th>\n",
       "      <th>tpr</th>\n",
       "      <th>fpr</th>\n",
       "      <th>fnr</th>\n",
       "    </tr>\n",
       "  </thead>\n",
       "  <tbody>\n",
       "    <tr>\n",
       "      <th>0</th>\n",
       "      <td>10</td>\n",
       "      <td>0.516340</td>\n",
       "      <td>0.803922</td>\n",
       "      <td>0.934641</td>\n",
       "      <td>0.745098</td>\n",
       "      <td>0.169935</td>\n",
       "      <td>0.254902</td>\n",
       "    </tr>\n",
       "    <tr>\n",
       "      <th>1</th>\n",
       "      <td>30</td>\n",
       "      <td>0.502488</td>\n",
       "      <td>0.793532</td>\n",
       "      <td>0.880597</td>\n",
       "      <td>0.708955</td>\n",
       "      <td>0.205224</td>\n",
       "      <td>0.291045</td>\n",
       "    </tr>\n",
       "    <tr>\n",
       "      <th>2</th>\n",
       "      <td>50</td>\n",
       "      <td>0.508689</td>\n",
       "      <td>0.783570</td>\n",
       "      <td>0.930490</td>\n",
       "      <td>0.721959</td>\n",
       "      <td>0.198657</td>\n",
       "      <td>0.278041</td>\n",
       "    </tr>\n",
       "    <tr>\n",
       "      <th>3</th>\n",
       "      <td>70</td>\n",
       "      <td>0.479648</td>\n",
       "      <td>0.762376</td>\n",
       "      <td>0.910891</td>\n",
       "      <td>0.702970</td>\n",
       "      <td>0.205446</td>\n",
       "      <td>0.297030</td>\n",
       "    </tr>\n",
       "    <tr>\n",
       "      <th>4</th>\n",
       "      <td>100</td>\n",
       "      <td>0.487981</td>\n",
       "      <td>0.762019</td>\n",
       "      <td>0.901442</td>\n",
       "      <td>0.706731</td>\n",
       "      <td>0.207332</td>\n",
       "      <td>0.293269</td>\n",
       "    </tr>\n",
       "  </tbody>\n",
       "</table>\n",
       "</div>"
      ],
      "text/plain": [
       "  observability      top1      top2      top3       tpr       fpr       fnr\n",
       "0            10  0.516340  0.803922  0.934641  0.745098  0.169935  0.254902\n",
       "1            30  0.502488  0.793532  0.880597  0.708955  0.205224  0.291045\n",
       "2            50  0.508689  0.783570  0.930490  0.721959  0.198657  0.278041\n",
       "3            70  0.479648  0.762376  0.910891  0.702970  0.205446  0.297030\n",
       "4           100  0.487981  0.762019  0.901442  0.706731  0.207332  0.293269"
      ]
     },
     "execution_count": 121,
     "metadata": {},
     "output_type": "execute_result"
    }
   ],
   "source": [
    "summary[['observability', 'top1', 'top2', 'top3', 'tpr', 'fpr', 'fnr']]"
   ]
  },
  {
   "cell_type": "markdown",
   "metadata": {},
   "source": [
    "## Offline Goal Recognition"
   ]
  },
  {
   "cell_type": "code",
   "execution_count": 122,
   "metadata": {
    "scrolled": true
   },
   "outputs": [],
   "source": [
    "offline = {'observability': [], 'avg_obs': [], 'time': [], 'top1': [], 'top2': [], 'top3': [], 'tpr' : [], 'fpr':[], 'fnr': []}\n",
    "\n",
    "for approach, observability in itertools.product(approaches, observabilities):\n",
    "    df = dataset.loc[(dataset['observability'] == observability)\\\n",
    "                    & (dataset['judge_point'] == dataset['obs_len'] - 1)]\n",
    "    if len(df) == 0: continue\n",
    "    top_1_acc = compute_accuracy(df, 1)\n",
    "    top_2_acc = compute_accuracy(df, 2)\n",
    "    top_3_acc = compute_accuracy(df, 3)\n",
    "    tpr, fpr, fnr = compute_error_rates(df)\n",
    "    avg_time = compute_recognition_time(df)\n",
    "    offline['observability'] += [observability]\n",
    "    offline['avg_obs'] += [avg_obs_observability[observability]]\n",
    "    offline['time'] += [avg_time]\n",
    "    offline['top1'] += [top_1_acc]\n",
    "    offline['top2'] += [top_2_acc]\n",
    "    offline['top3'] += [top_3_acc]\n",
    "    offline['tpr'] += [tpr]\n",
    "    offline['fpr'] += [fpr]\n",
    "    offline['fnr'] += [fnr]"
   ]
  },
  {
   "cell_type": "code",
   "execution_count": 123,
   "metadata": {
    "scrolled": true
   },
   "outputs": [
    {
     "data": {
      "text/html": [
       "<div>\n",
       "<style scoped>\n",
       "    .dataframe tbody tr th:only-of-type {\n",
       "        vertical-align: middle;\n",
       "    }\n",
       "\n",
       "    .dataframe tbody tr th {\n",
       "        vertical-align: top;\n",
       "    }\n",
       "\n",
       "    .dataframe thead th {\n",
       "        text-align: right;\n",
       "    }\n",
       "</style>\n",
       "<table border=\"1\" class=\"dataframe\">\n",
       "  <thead>\n",
       "    <tr style=\"text-align: right;\">\n",
       "      <th></th>\n",
       "      <th>observability</th>\n",
       "      <th>avg_obs</th>\n",
       "      <th>time</th>\n",
       "      <th>top1</th>\n",
       "      <th>top2</th>\n",
       "      <th>top3</th>\n",
       "      <th>tpr</th>\n",
       "      <th>fpr</th>\n",
       "      <th>fnr</th>\n",
       "    </tr>\n",
       "  </thead>\n",
       "  <tbody>\n",
       "    <tr>\n",
       "      <th>0</th>\n",
       "      <td>10</td>\n",
       "      <td>2.125000</td>\n",
       "      <td>217.939283</td>\n",
       "      <td>0.638889</td>\n",
       "      <td>0.930556</td>\n",
       "      <td>0.986111</td>\n",
       "      <td>0.833333</td>\n",
       "      <td>0.114583</td>\n",
       "      <td>0.166667</td>\n",
       "    </tr>\n",
       "    <tr>\n",
       "      <th>1</th>\n",
       "      <td>30</td>\n",
       "      <td>5.583333</td>\n",
       "      <td>215.803104</td>\n",
       "      <td>0.666667</td>\n",
       "      <td>0.916667</td>\n",
       "      <td>0.958333</td>\n",
       "      <td>0.888889</td>\n",
       "      <td>0.156250</td>\n",
       "      <td>0.111111</td>\n",
       "    </tr>\n",
       "    <tr>\n",
       "      <th>2</th>\n",
       "      <td>50</td>\n",
       "      <td>8.791667</td>\n",
       "      <td>210.068876</td>\n",
       "      <td>0.680556</td>\n",
       "      <td>0.944444</td>\n",
       "      <td>0.986111</td>\n",
       "      <td>0.930556</td>\n",
       "      <td>0.149306</td>\n",
       "      <td>0.069444</td>\n",
       "    </tr>\n",
       "    <tr>\n",
       "      <th>3</th>\n",
       "      <td>70</td>\n",
       "      <td>12.625000</td>\n",
       "      <td>211.542390</td>\n",
       "      <td>0.694444</td>\n",
       "      <td>0.916667</td>\n",
       "      <td>1.000000</td>\n",
       "      <td>0.958333</td>\n",
       "      <td>0.135417</td>\n",
       "      <td>0.041667</td>\n",
       "    </tr>\n",
       "    <tr>\n",
       "      <th>4</th>\n",
       "      <td>100</td>\n",
       "      <td>17.333333</td>\n",
       "      <td>207.711968</td>\n",
       "      <td>0.750000</td>\n",
       "      <td>1.000000</td>\n",
       "      <td>1.000000</td>\n",
       "      <td>0.958333</td>\n",
       "      <td>0.093750</td>\n",
       "      <td>0.041667</td>\n",
       "    </tr>\n",
       "  </tbody>\n",
       "</table>\n",
       "</div>"
      ],
      "text/plain": [
       "  observability    avg_obs        time      top1      top2      top3  \\\n",
       "0            10   2.125000  217.939283  0.638889  0.930556  0.986111   \n",
       "1            30   5.583333  215.803104  0.666667  0.916667  0.958333   \n",
       "2            50   8.791667  210.068876  0.680556  0.944444  0.986111   \n",
       "3            70  12.625000  211.542390  0.694444  0.916667  1.000000   \n",
       "4           100  17.333333  207.711968  0.750000  1.000000  1.000000   \n",
       "\n",
       "        tpr       fpr       fnr  \n",
       "0  0.833333  0.114583  0.166667  \n",
       "1  0.888889  0.156250  0.111111  \n",
       "2  0.930556  0.149306  0.069444  \n",
       "3  0.958333  0.135417  0.041667  \n",
       "4  0.958333  0.093750  0.041667  "
      ]
     },
     "execution_count": 123,
     "metadata": {},
     "output_type": "execute_result"
    }
   ],
   "source": [
    "offline = pd.DataFrame(offline)\n",
    "offline[['observability', 'avg_obs', 'time', 'top1', 'top2', 'top3', 'tpr', 'fpr', 'fnr']]"
   ]
  },
  {
   "cell_type": "code",
   "execution_count": 127,
   "metadata": {},
   "outputs": [
    {
     "name": "stdout",
     "output_type": "stream",
     "text": [
      "Average observations: 9.291666666666666\n",
      "Average goal: 4.0\n"
     ]
    }
   ],
   "source": [
    "print('Average observations: %s' % avg_obs)\n",
    "print('Average goal: %s' % avg_goals)\n"
   ]
  },
  {
   "cell_type": "markdown",
   "metadata": {
    "collapsed": true
   },
   "source": [
    "### First Observation"
   ]
  },
  {
   "cell_type": "code",
   "execution_count": 125,
   "metadata": {},
   "outputs": [],
   "source": [
    "first_obs = {'observability': [], 'top1': [], 'top2': [], 'top3': [], 'tpr' : [], 'fpr':[], 'fnr': []}\n",
    "\n",
    "for approach, observability in itertools.product(approaches, observabilities):\n",
    "    df = dataset.loc[(dataset['observability'] == observability)\\\n",
    "                    & (dataset['judge_point'] == 0)]\n",
    "    if len(df) == 0: continue\n",
    "    #print(len(df))\n",
    "    top_1_acc = compute_accuracy(df, 1)\n",
    "    top_2_acc = compute_accuracy(df, 2)\n",
    "    top_3_acc = compute_accuracy(df, 3)\n",
    "    tpr, fpr, fnr = compute_error_rates(df)\n",
    "    first_obs['observability'] += [observability]\n",
    "    first_obs['top1'] += [top_1_acc]\n",
    "    first_obs['top2'] += [top_2_acc]\n",
    "    first_obs['top3'] += [top_3_acc]\n",
    "    first_obs['tpr'] += [tpr]\n",
    "    first_obs['fpr'] += [fpr]\n",
    "    first_obs['fnr'] += [fnr]"
   ]
  },
  {
   "cell_type": "code",
   "execution_count": 126,
   "metadata": {},
   "outputs": [
    {
     "data": {
      "text/html": [
       "<div>\n",
       "<style scoped>\n",
       "    .dataframe tbody tr th:only-of-type {\n",
       "        vertical-align: middle;\n",
       "    }\n",
       "\n",
       "    .dataframe tbody tr th {\n",
       "        vertical-align: top;\n",
       "    }\n",
       "\n",
       "    .dataframe thead th {\n",
       "        text-align: right;\n",
       "    }\n",
       "</style>\n",
       "<table border=\"1\" class=\"dataframe\">\n",
       "  <thead>\n",
       "    <tr style=\"text-align: right;\">\n",
       "      <th></th>\n",
       "      <th>observability</th>\n",
       "      <th>top1</th>\n",
       "      <th>top2</th>\n",
       "      <th>top3</th>\n",
       "      <th>tpr</th>\n",
       "      <th>fpr</th>\n",
       "      <th>fnr</th>\n",
       "    </tr>\n",
       "  </thead>\n",
       "  <tbody>\n",
       "    <tr>\n",
       "      <th>0</th>\n",
       "      <td>10</td>\n",
       "      <td>0.500000</td>\n",
       "      <td>0.750000</td>\n",
       "      <td>0.916667</td>\n",
       "      <td>0.708333</td>\n",
       "      <td>0.173611</td>\n",
       "      <td>0.291667</td>\n",
       "    </tr>\n",
       "    <tr>\n",
       "      <th>1</th>\n",
       "      <td>30</td>\n",
       "      <td>0.444444</td>\n",
       "      <td>0.791667</td>\n",
       "      <td>0.861111</td>\n",
       "      <td>0.611111</td>\n",
       "      <td>0.180556</td>\n",
       "      <td>0.388889</td>\n",
       "    </tr>\n",
       "    <tr>\n",
       "      <th>2</th>\n",
       "      <td>50</td>\n",
       "      <td>0.416667</td>\n",
       "      <td>0.777778</td>\n",
       "      <td>0.986111</td>\n",
       "      <td>0.583333</td>\n",
       "      <td>0.177083</td>\n",
       "      <td>0.416667</td>\n",
       "    </tr>\n",
       "    <tr>\n",
       "      <th>3</th>\n",
       "      <td>70</td>\n",
       "      <td>0.402778</td>\n",
       "      <td>0.722222</td>\n",
       "      <td>0.944444</td>\n",
       "      <td>0.583333</td>\n",
       "      <td>0.180556</td>\n",
       "      <td>0.416667</td>\n",
       "    </tr>\n",
       "    <tr>\n",
       "      <th>4</th>\n",
       "      <td>100</td>\n",
       "      <td>0.416667</td>\n",
       "      <td>0.750000</td>\n",
       "      <td>0.958333</td>\n",
       "      <td>0.583333</td>\n",
       "      <td>0.166667</td>\n",
       "      <td>0.416667</td>\n",
       "    </tr>\n",
       "  </tbody>\n",
       "</table>\n",
       "</div>"
      ],
      "text/plain": [
       "  observability      top1      top2      top3       tpr       fpr       fnr\n",
       "0            10  0.500000  0.750000  0.916667  0.708333  0.173611  0.291667\n",
       "1            30  0.444444  0.791667  0.861111  0.611111  0.180556  0.388889\n",
       "2            50  0.416667  0.777778  0.986111  0.583333  0.177083  0.416667\n",
       "3            70  0.402778  0.722222  0.944444  0.583333  0.180556  0.416667\n",
       "4           100  0.416667  0.750000  0.958333  0.583333  0.166667  0.416667"
      ]
     },
     "execution_count": 126,
     "metadata": {},
     "output_type": "execute_result"
    }
   ],
   "source": [
    "first_obs = pd.DataFrame(first_obs)\n",
    "first_obs[['observability', 'top1', 'top2', 'top3', 'tpr', 'fpr', 'fnr']]"
   ]
  },
  {
   "cell_type": "code",
   "execution_count": null,
   "metadata": {},
   "outputs": [],
   "source": []
  },
  {
   "cell_type": "code",
   "execution_count": null,
   "metadata": {},
   "outputs": [],
   "source": []
  }
 ],
 "metadata": {
  "kernelspec": {
   "display_name": "Python 3",
   "language": "python",
   "name": "python3"
  },
  "language_info": {
   "codemirror_mode": {
    "name": "ipython",
    "version": 3
   },
   "file_extension": ".py",
   "mimetype": "text/x-python",
   "name": "python",
   "nbconvert_exporter": "python",
   "pygments_lexer": "ipython3",
   "version": "3.8.3"
  }
 },
 "nbformat": 4,
 "nbformat_minor": 2
}
