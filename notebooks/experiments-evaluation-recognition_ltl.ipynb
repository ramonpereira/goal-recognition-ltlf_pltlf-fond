{
 "cells": [
  {
   "cell_type": "markdown",
   "metadata": {},
   "source": [
    "# Experimental Evaluation: Goal Recognition in FOND with Temporally Extended Goals (LTLf and PLTL)"
   ]
  },
  {
   "cell_type": "code",
   "execution_count": 199,
   "metadata": {},
   "outputs": [],
   "source": [
    "BASE_DIR = '../fond-recognition-benchmarks'"
   ]
  },
  {
   "cell_type": "code",
   "execution_count": 200,
   "metadata": {},
   "outputs": [],
   "source": [
    "import os\n",
    "import sys\n",
    "import pandas as pd\n",
    "import glob\n",
    "import json\n",
    "import numpy as np\n",
    "import itertools"
   ]
  },
  {
   "cell_type": "code",
   "execution_count": 201,
   "metadata": {},
   "outputs": [],
   "source": [
    "def compute_posterior(index, prob, priors ):\n",
    "    num = probs[index] * priors[index]\n",
    "    denom = np.sum(probs*priors)\n",
    "    return num / denom"
   ]
  },
  {
   "cell_type": "code",
   "execution_count": 202,
   "metadata": {},
   "outputs": [],
   "source": [
    "RESULTS_DIR = os.path.join(BASE_DIR, 'results')"
   ]
  },
  {
   "cell_type": "code",
   "execution_count": 203,
   "metadata": {},
   "outputs": [],
   "source": [
    "json_files = glob.glob(os.path.join(RESULTS_DIR, '*.json'))"
   ]
  },
  {
   "cell_type": "code",
   "execution_count": 204,
   "metadata": {},
   "outputs": [
    {
     "name": "stdout",
     "output_type": "stream",
     "text": [
      "Results found: 16\n"
     ]
    }
   ],
   "source": [
    "print(\"Results found:\", len(json_files))"
   ]
  },
  {
   "cell_type": "markdown",
   "metadata": {},
   "source": [
    "# Results Collection"
   ]
  },
  {
   "cell_type": "code",
   "execution_count": 205,
   "metadata": {},
   "outputs": [
    {
     "name": "stdout",
     "output_type": "stream",
     "text": [
      "../fond-recognition-benchmarks/results/triangle-tireworld_p01_hyp-1_10_2.json\n",
      "triangle-tireworld_p01_hyp-1_10_2.json\n"
     ]
    }
   ],
   "source": [
    "print(json_files[0])\n",
    "print(os.path.basename(json_files[0]))\n",
    "filename, ext = os.path.basename(json_files[0]).split('.')"
   ]
  },
  {
   "cell_type": "code",
   "execution_count": 206,
   "metadata": {},
   "outputs": [],
   "source": [
    "tokens = filename.split('_')"
   ]
  },
  {
   "cell_type": "code",
   "execution_count": 218,
   "metadata": {},
   "outputs": [
    {
     "name": "stdout",
     "output_type": "stream",
     "text": [
      "[[0.9835432294689368], [0.9934172917875748], [0.023039478743488506]]\n",
      "[0.4917716147344684, 0.4967086458937873, 0.011519739371744253]\n",
      "[0.4917716147344684, 0.4967086458937873, 0.011519739371744253]\n",
      "[0.4917716147344684, 0.4967086458937873, 0.011519739371744253]\n",
      "[[0.5925925925925926, 0.9711377793516491, 0.9835432294689368, 0.5], [0.7037037037037037, 0.980758519567766, 0.9934172917875748, 1.0], [0.7037037037037037, 0.04810370108058478, 0.023039478743488506, 0.5]]\n",
      "[0.2962962962962963, 0.35185185185185186, 0.35185185185185186]\n",
      "[0.2962962962962963, 0.35185185185185186, 0.35185185185185186]\n",
      "[0.2962962962962963, 0.35185185185185186, 0.35185185185185186]\n",
      "[[0.9741790818599768], [0.9838619261624855], [0.041958991977537496]]\n",
      "[0.4870895409299884, 0.49193096308124273, 0.020979495988768748]\n",
      "[0.4870895409299884, 0.49193096308124273, 0.020979495988768748]\n",
      "[0.4870895409299884, 0.49193096308124273, 0.020979495988768748]\n",
      "[[0.5925925925925926, 0.9741790818599768], [0.7037037037037037, 0.9838619261624855], [0.7037037037037037, 0.041958991977537496]]\n",
      "[0.2962962962962963, 0.35185185185185186, 0.35185185185185186]\n",
      "[0.2962962962962963, 0.35185185185185186, 0.35185185185185186]\n",
      "[0.2962962962962963, 0.35185185185185186, 0.35185185185185186]\n",
      "[[0.6000000000000001, 0.5925925925925926, 0.9711377793516491, 0.9741790818599768, 0.9803810213744419, 0.9835432294689368, 0.5], [0.7, 0.7037037037037037, 0.980758519567766, 0.9838619261624855, 0.990190510687221, 0.9934172917875748, 1.0], [0.7, 0.7037037037037037, 0.04810370108058478, 0.041958991977537496, 0.029428467938337005, 0.023039478743488506, 0.5]]\n",
      "[0.30000000000000004, 0.35, 0.35]\n",
      "[0.30000000000000004, 0.35, 0.35]\n",
      "[0.30000000000000004, 0.35, 0.35]\n",
      "[[0.5925925925925926, 0.9711377793516491, 0.9803810213744419], [0.7037037037037037, 0.980758519567766, 0.990190510687221], [0.7037037037037037, 0.04810370108058478, 0.029428467938337005]]\n",
      "[0.2962962962962963, 0.35185185185185186, 0.35185185185185186]\n",
      "[0.2962962962962963, 0.35185185185185186, 0.35185185185185186]\n",
      "[0.2962962962962963, 0.35185185185185186, 0.35185185185185186]\n",
      "[[0.6000000000000001, 0.9711377793516491, 0.9803810213744419, 0.9835432294689368, 0.5], [0.7, 0.980758519567766, 0.990190510687221, 0.9934172917875748, 1.0], [0.7, 0.04810370108058478, 0.029428467938337005, 0.023039478743488506, 0.5]]\n",
      "[0.30000000000000004, 0.35, 0.35]\n",
      "[0.30000000000000004, 0.35, 0.35]\n",
      "[0.30000000000000004, 0.35, 0.35]\n",
      "[[0.5925925925925926, 0.9741790818599768, 0.5], [0.7037037037037037, 0.9838619261624855, 1.0], [0.7037037037037037, 0.041958991977537496, 0.5]]\n",
      "[0.2962962962962963, 0.35185185185185186, 0.35185185185185186]\n",
      "[0.2962962962962963, 0.35185185185185186, 0.35185185185185186]\n",
      "[0.2962962962962963, 0.35185185185185186, 0.35185185185185186]\n",
      "[[0.6000000000000001, 0.5925925925925926, 0.9711377793516491, 0.9803810213744419, 0.5], [0.7, 0.7037037037037037, 0.980758519567766, 0.990190510687221, 1.0], [0.7, 0.7037037037037037, 0.04810370108058478, 0.029428467938337005, 0.5]]\n",
      "[0.30000000000000004, 0.35, 0.35]\n",
      "[0.30000000000000004, 0.35, 0.35]\n",
      "[0.30000000000000004, 0.35, 0.35]\n",
      "[[0.9711377793516491, 0.9803810213744419, 0.5], [0.980758519567766, 0.990190510687221, 1.0], [0.04810370108058478, 0.029428467938337005, 0.5]]\n",
      "[0.4855688896758246, 0.4903792597838831, 0.024051850540292394]\n",
      "[0.4855688896758246, 0.4903792597838831, 0.024051850540292394]\n",
      "[0.4855688896758246, 0.4903792597838831, 0.024051850540292394]\n",
      "[[0.6000000000000001, 0.5925925925925926], [0.7, 0.7037037037037037], [0.7, 0.7037037037037037]]\n",
      "[0.30000000000000004, 0.35, 0.35]\n",
      "[0.30000000000000004, 0.35, 0.35]\n",
      "[0.30000000000000004, 0.35, 0.35]\n",
      "[[0.6000000000000001, 0.9835432294689368], [0.7, 0.9934172917875748], [0.7, 0.023039478743488506]]\n",
      "[0.30000000000000004, 0.35, 0.35]\n",
      "[0.30000000000000004, 0.35, 0.35]\n",
      "[0.30000000000000004, 0.35, 0.35]\n",
      "[[0.6000000000000001, 0.5925925925925926, 0.9711377793516491, 0.9803810213744419, 0.9835432294689368], [0.7, 0.7037037037037037, 0.980758519567766, 0.990190510687221, 0.9934172917875748], [0.7, 0.7037037037037037, 0.04810370108058478, 0.029428467938337005, 0.023039478743488506]]\n",
      "[0.30000000000000004, 0.35, 0.35]\n",
      "[0.30000000000000004, 0.35, 0.35]\n",
      "[0.30000000000000004, 0.35, 0.35]\n",
      "[[0.6000000000000001, 0.9711377793516491, 0.9835432294689368, 0.5], [0.7, 0.980758519567766, 0.9934172917875748, 1.0], [0.7, 0.04810370108058478, 0.023039478743488506, 0.5]]\n",
      "[0.30000000000000004, 0.35, 0.35]\n",
      "[0.30000000000000004, 0.35, 0.35]\n",
      "[0.30000000000000004, 0.35, 0.35]\n",
      "[[0.9835432294689368], [0.9934172917875748], [0.023039478743488506]]\n",
      "[0.4917716147344684, 0.4967086458937873, 0.011519739371744253]\n",
      "[0.4917716147344684, 0.4967086458937873, 0.011519739371744253]\n",
      "[0.4917716147344684, 0.4967086458937873, 0.011519739371744253]\n",
      "[[0.6000000000000001, 0.5925925925925926, 0.9741790818599768, 0.5], [0.7, 0.7037037037037037, 0.9838619261624855, 1.0], [0.7, 0.7037037037037037, 0.041958991977537496, 0.5]]\n",
      "[0.30000000000000004, 0.35, 0.35]\n",
      "[0.30000000000000004, 0.35, 0.35]\n",
      "[0.30000000000000004, 0.35, 0.35]\n"
     ]
    }
   ],
   "source": [
    "dataset = {\n",
    "    'domain' : [],\\\n",
    "    'problem' : [],\\\n",
    "    'goals' : [],\\\n",
    "    'judge_point' : [],\\\n",
    "    'obs_len' : [],\\\n",
    "    'true_goal': [],\\\n",
    "    'posterior': []}\n",
    "\n",
    "for pathname in json_files:\n",
    "    filename, ext = os.path.basename(pathname).split('.')\n",
    "    tokens = filename.split('_')\n",
    "    approach = tokens[0]\n",
    "    model_type = tokens[-1]\n",
    "    data = {}\n",
    "    with open(pathname) as instream:\n",
    "        buffer = instream.read()\n",
    "        data = json.loads(buffer)\n",
    "    #print(approach, model_type, data['domain'], data['problem'], data['observability'])\n",
    "    num_goals = len(data[\"G\"])\n",
    "    true_goal = data[\"G\"].index(data['G*'])\n",
    "    likelihoods = data['P(Obs | G)']\n",
    "    probs = []\n",
    "    for l in likelihoods:\n",
    "        probs.append(l[0])\n",
    "    for k, prob_O_G in enumerate(likelihoods):\n",
    "        post_probs = [compute_posterior(j, probs, np.ones(num_goals)/num_goals) \\\n",
    "                     for j in range(len(data['G']))]\n",
    "        dataset['domain'] += [data['domain']]\n",
    "        dataset['problem'] += [data['problem']]\n",
    "        dataset['goals'] += [num_goals]\n",
    "        dataset['judge_point'] += [k]\n",
    "        dataset['obs_len'] += [len(data['Obs'])]\n",
    "        dataset['true_goal'] += [true_goal]\n",
    "        dataset['posterior'] += [np.array(post_probs)]"
   ]
  },
  {
   "cell_type": "code",
   "execution_count": 208,
   "metadata": {},
   "outputs": [],
   "source": [
    "dataset = pd.DataFrame(dataset)"
   ]
  },
  {
   "cell_type": "code",
   "execution_count": 209,
   "metadata": {},
   "outputs": [],
   "source": [
    "def compute_accuracy(dataset, top_k):\n",
    "    tp_count = 0\n",
    "    for index, row in dataset.iterrows():\n",
    "        top_k_goals = np.argpartition(row['posterior'], -top_k)[-top_k:]\n",
    "        if row['true_goal'] in top_k_goals:\n",
    "            tp_count += 1\n",
    "    return tp_count / len(dataset)"
   ]
  },
  {
   "cell_type": "code",
   "execution_count": 210,
   "metadata": {},
   "outputs": [],
   "source": [
    "def compute_error_rates(dataset):\n",
    "    tpr = 0.0\n",
    "    fpr = 0.0\n",
    "    fnr = 0.0\n",
    "    \n",
    "    for index, row in dataset.iterrows():\n",
    "        tp_count = 0\n",
    "        tn_count = 0\n",
    "        fp_count = 0\n",
    "        fn_count = 0\n",
    "\n",
    "        top_goal = np.argmax(row['posterior'])\n",
    "        max_goals = [ k for k, p in enumerate(row['posterior']) if p == row['posterior'][top_goal]]\n",
    "        \n",
    "        if row['true_goal'] in max_goals:\n",
    "            tp_count = 1\n",
    "        fn_count = 1 - tp_count\n",
    "        fp_count = len(max_goals) - tp_count\n",
    "        tn_count = row['goals'] - fp_count\n",
    "    \n",
    "        tpr += tp_count/(tp_count + fp_count)\n",
    "        fpr += fp_count/(fp_count + tn_count)\n",
    "        fnr += fn_count/(fn_count + tp_count)\n",
    "    return tpr/len(dataset), fpr/len(dataset), fnr/len(dataset)"
   ]
  },
  {
   "cell_type": "markdown",
   "metadata": {},
   "source": [
    "## Summary of Results"
   ]
  },
  {
   "cell_type": "code",
   "execution_count": 211,
   "metadata": {},
   "outputs": [
    {
     "name": "stdout",
     "output_type": "stream",
     "text": [
      "48\n"
     ]
    }
   ],
   "source": [
    "approaches = ['approach']\n",
    "\n",
    "summary = {'approach': [], 'top1': [], 'top2': [], 'top3': [], 'tpr' : [], 'fpr':[], 'fnr': []}\n",
    "\n",
    "for approach in itertools.product(approaches):\n",
    "    df = dataset\n",
    "    if len(df) == 0: continue\n",
    "    print(len(df))\n",
    "    top_1_acc = compute_accuracy(df, 1)\n",
    "    top_2_acc = compute_accuracy(df, 2)\n",
    "    top_3_acc = compute_accuracy(df, 3)\n",
    "    tpr, fpr, fnr = compute_error_rates(df)\n",
    "    summary['approach'] += [approach]\n",
    "    summary['top1'] += [top_1_acc]\n",
    "    summary['top2'] += [top_2_acc]\n",
    "    summary['top3'] += [top_3_acc]\n",
    "    summary['tpr'] += [tpr]\n",
    "    summary['fpr'] += [fpr]\n",
    "    summary['fnr'] += [fnr]"
   ]
  },
  {
   "cell_type": "code",
   "execution_count": 212,
   "metadata": {},
   "outputs": [],
   "source": [
    "summary = pd.DataFrame(summary)"
   ]
  },
  {
   "cell_type": "code",
   "execution_count": 213,
   "metadata": {},
   "outputs": [
    {
     "data": {
      "text/html": [
       "<div>\n",
       "<style scoped>\n",
       "    .dataframe tbody tr th:only-of-type {\n",
       "        vertical-align: middle;\n",
       "    }\n",
       "\n",
       "    .dataframe tbody tr th {\n",
       "        vertical-align: top;\n",
       "    }\n",
       "\n",
       "    .dataframe thead th {\n",
       "        text-align: right;\n",
       "    }\n",
       "</style>\n",
       "<table border=\"1\" class=\"dataframe\">\n",
       "  <thead>\n",
       "    <tr style=\"text-align: right;\">\n",
       "      <th></th>\n",
       "      <th>top1</th>\n",
       "      <th>top2</th>\n",
       "      <th>top3</th>\n",
       "      <th>tpr</th>\n",
       "      <th>fpr</th>\n",
       "      <th>fnr</th>\n",
       "    </tr>\n",
       "  </thead>\n",
       "  <tbody>\n",
       "    <tr>\n",
       "      <th>0</th>\n",
       "      <td>0.25</td>\n",
       "      <td>1.0</td>\n",
       "      <td>1.0</td>\n",
       "      <td>0.625</td>\n",
       "      <td>0.25</td>\n",
       "      <td>0.0</td>\n",
       "    </tr>\n",
       "  </tbody>\n",
       "</table>\n",
       "</div>"
      ],
      "text/plain": [
       "   top1  top2  top3    tpr   fpr  fnr\n",
       "0  0.25   1.0   1.0  0.625  0.25  0.0"
      ]
     },
     "execution_count": 213,
     "metadata": {},
     "output_type": "execute_result"
    }
   ],
   "source": [
    "summary[['top1', 'top2', 'top3', 'tpr', 'fpr', 'fnr']]"
   ]
  },
  {
   "cell_type": "markdown",
   "metadata": {},
   "source": [
    "## Last Observation"
   ]
  },
  {
   "cell_type": "code",
   "execution_count": 214,
   "metadata": {},
   "outputs": [],
   "source": [
    "offline = {'top1': [], 'top2': [], 'top3': [], 'tpr' : [], 'fpr':[], 'fnr': []}\n",
    "\n",
    "for approach in itertools.product(approaches):\n",
    "    df = dataset.loc[(dataset['judge_point'] == dataset['obs_len'] - 1)]\n",
    "    if len(df) == 0: continue\n",
    "    top_1_acc = compute_accuracy(df, 1)\n",
    "    top_2_acc = compute_accuracy(df, 2)\n",
    "    top_3_acc = compute_accuracy(df, 3)\n",
    "    tpr, fpr, fnr = compute_error_rates(df)\n",
    "    offline['top1'] += [top_1_acc]\n",
    "    offline['top2'] += [top_2_acc]\n",
    "    offline['top3'] += [top_3_acc]\n",
    "    offline['tpr'] += [tpr]\n",
    "    offline['fpr'] += [fpr]\n",
    "    offline['fnr'] += [fnr]"
   ]
  },
  {
   "cell_type": "code",
   "execution_count": 215,
   "metadata": {
    "scrolled": true
   },
   "outputs": [
    {
     "data": {
      "text/html": [
       "<div>\n",
       "<style scoped>\n",
       "    .dataframe tbody tr th:only-of-type {\n",
       "        vertical-align: middle;\n",
       "    }\n",
       "\n",
       "    .dataframe tbody tr th {\n",
       "        vertical-align: top;\n",
       "    }\n",
       "\n",
       "    .dataframe thead th {\n",
       "        text-align: right;\n",
       "    }\n",
       "</style>\n",
       "<table border=\"1\" class=\"dataframe\">\n",
       "  <thead>\n",
       "    <tr style=\"text-align: right;\">\n",
       "      <th></th>\n",
       "      <th>top1</th>\n",
       "      <th>top2</th>\n",
       "      <th>top3</th>\n",
       "      <th>tpr</th>\n",
       "      <th>fpr</th>\n",
       "      <th>fnr</th>\n",
       "    </tr>\n",
       "  </thead>\n",
       "  <tbody>\n",
       "    <tr>\n",
       "      <th>0</th>\n",
       "      <td>0.444444</td>\n",
       "      <td>1.0</td>\n",
       "      <td>1.0</td>\n",
       "      <td>0.722222</td>\n",
       "      <td>0.185185</td>\n",
       "      <td>0.0</td>\n",
       "    </tr>\n",
       "  </tbody>\n",
       "</table>\n",
       "</div>"
      ],
      "text/plain": [
       "       top1  top2  top3       tpr       fpr  fnr\n",
       "0  0.444444   1.0   1.0  0.722222  0.185185  0.0"
      ]
     },
     "execution_count": 215,
     "metadata": {},
     "output_type": "execute_result"
    }
   ],
   "source": [
    "offline = pd.DataFrame(offline)\n",
    "offline[['top1', 'top2', 'top3', 'tpr', 'fpr', 'fnr']]"
   ]
  },
  {
   "cell_type": "markdown",
   "metadata": {
    "collapsed": true
   },
   "source": [
    "### First Observation"
   ]
  },
  {
   "cell_type": "code",
   "execution_count": 216,
   "metadata": {},
   "outputs": [],
   "source": [
    "first_obs = {'top1': [], 'top2': [], 'top3': [], 'tpr' : [], 'fpr':[], 'fnr': []}\n",
    "\n",
    "for approach in itertools.product(approaches):\n",
    "    df = dataset.loc[(dataset['judge_point'] == 0)]\n",
    "    if len(df) == 0: continue\n",
    "    #print(len(df))\n",
    "    top_1_acc = compute_accuracy(df, 1)\n",
    "    top_2_acc = compute_accuracy(df, 2)\n",
    "    top_3_acc = compute_accuracy(df, 3)\n",
    "    tpr, fpr, fnr = compute_error_rates(df)\n",
    "    first_obs['top1'] += [top_1_acc]\n",
    "    first_obs['top2'] += [top_2_acc]\n",
    "    first_obs['top3'] += [top_3_acc]\n",
    "    first_obs['tpr'] += [tpr]\n",
    "    first_obs['fpr'] += [fpr]\n",
    "    first_obs['fnr'] += [fnr]"
   ]
  },
  {
   "cell_type": "code",
   "execution_count": 217,
   "metadata": {},
   "outputs": [
    {
     "data": {
      "text/html": [
       "<div>\n",
       "<style scoped>\n",
       "    .dataframe tbody tr th:only-of-type {\n",
       "        vertical-align: middle;\n",
       "    }\n",
       "\n",
       "    .dataframe tbody tr th {\n",
       "        vertical-align: top;\n",
       "    }\n",
       "\n",
       "    .dataframe thead th {\n",
       "        text-align: right;\n",
       "    }\n",
       "</style>\n",
       "<table border=\"1\" class=\"dataframe\">\n",
       "  <thead>\n",
       "    <tr style=\"text-align: right;\">\n",
       "      <th></th>\n",
       "      <th>top1</th>\n",
       "      <th>top2</th>\n",
       "      <th>top3</th>\n",
       "      <th>tpr</th>\n",
       "      <th>fpr</th>\n",
       "      <th>fnr</th>\n",
       "    </tr>\n",
       "  </thead>\n",
       "  <tbody>\n",
       "    <tr>\n",
       "      <th>0</th>\n",
       "      <td>0.25</td>\n",
       "      <td>1.0</td>\n",
       "      <td>1.0</td>\n",
       "      <td>0.625</td>\n",
       "      <td>0.25</td>\n",
       "      <td>0.0</td>\n",
       "    </tr>\n",
       "  </tbody>\n",
       "</table>\n",
       "</div>"
      ],
      "text/plain": [
       "   top1  top2  top3    tpr   fpr  fnr\n",
       "0  0.25   1.0   1.0  0.625  0.25  0.0"
      ]
     },
     "execution_count": 217,
     "metadata": {},
     "output_type": "execute_result"
    }
   ],
   "source": [
    "first_obs = pd.DataFrame(first_obs)\n",
    "first_obs[['top1', 'top2', 'top3', 'tpr', 'fpr', 'fnr']]"
   ]
  },
  {
   "cell_type": "code",
   "execution_count": null,
   "metadata": {},
   "outputs": [],
   "source": []
  }
 ],
 "metadata": {
  "kernelspec": {
   "display_name": "Python 3",
   "language": "python",
   "name": "python3"
  },
  "language_info": {
   "codemirror_mode": {
    "name": "ipython",
    "version": 3
   },
   "file_extension": ".py",
   "mimetype": "text/x-python",
   "name": "python",
   "nbconvert_exporter": "python",
   "pygments_lexer": "ipython3",
   "version": "3.8.3"
  }
 },
 "nbformat": 4,
 "nbformat_minor": 2
}
