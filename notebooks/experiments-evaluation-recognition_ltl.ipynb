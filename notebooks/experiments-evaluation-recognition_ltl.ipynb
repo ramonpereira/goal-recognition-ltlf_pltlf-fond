{
 "cells": [
  {
   "cell_type": "markdown",
   "metadata": {},
   "source": [
    "# Experimental Evaluation: Goal Recognition in FOND with Temporally Extended Goals (LTLf and PLTL)"
   ]
  },
  {
   "cell_type": "code",
   "execution_count": 551,
   "metadata": {},
   "outputs": [],
   "source": [
    "BASE_DIR = '../fond-recognition-benchmarks'"
   ]
  },
  {
   "cell_type": "code",
   "execution_count": 552,
   "metadata": {},
   "outputs": [],
   "source": [
    "import os\n",
    "import sys\n",
    "import pandas as pd\n",
    "import glob\n",
    "import json\n",
    "import numpy as np\n",
    "import itertools"
   ]
  },
  {
   "cell_type": "code",
   "execution_count": 553,
   "metadata": {},
   "outputs": [],
   "source": [
    "def compute_posterior(index, prob, priors):\n",
    "    num = prob[index] * priors[index]\n",
    "    denom = np.sum(prob*priors)\n",
    "    return num / denom"
   ]
  },
  {
   "cell_type": "code",
   "execution_count": 554,
   "metadata": {},
   "outputs": [],
   "source": [
    "RESULTS_DIR = os.path.join(BASE_DIR, 'results')"
   ]
  },
  {
   "cell_type": "code",
   "execution_count": 555,
   "metadata": {},
   "outputs": [],
   "source": [
    "json_files = glob.glob(os.path.join(RESULTS_DIR, '*.json'))"
   ]
  },
  {
   "cell_type": "code",
   "execution_count": 556,
   "metadata": {},
   "outputs": [
    {
     "name": "stdout",
     "output_type": "stream",
     "text": [
      "Results found: 19\n"
     ]
    }
   ],
   "source": [
    "print(\"Results found:\", len(json_files))"
   ]
  },
  {
   "cell_type": "markdown",
   "metadata": {},
   "source": [
    "# Results Collection"
   ]
  },
  {
   "cell_type": "code",
   "execution_count": 557,
   "metadata": {},
   "outputs": [
    {
     "name": "stdout",
     "output_type": "stream",
     "text": [
      "../fond-recognition-benchmarks/results/triangle-tireworld_p01_hyp-1_10_2.json\n",
      "triangle-tireworld_p01_hyp-1_10_2.json\n"
     ]
    }
   ],
   "source": [
    "print(json_files[0])\n",
    "print(os.path.basename(json_files[0]))\n",
    "filename, ext = os.path.basename(json_files[0]).split('.')"
   ]
  },
  {
   "cell_type": "code",
   "execution_count": 558,
   "metadata": {},
   "outputs": [],
   "source": [
    "tokens = filename.split('_')"
   ]
  },
  {
   "cell_type": "code",
   "execution_count": 559,
   "metadata": {},
   "outputs": [],
   "source": [
    "dataset = {\n",
    "    'domain' : [],\\\n",
    "    'problem' : [],\\\n",
    "    'observability' : [],\\\n",
    "    'goals' : [],\\\n",
    "    'judge_point' : [],\\\n",
    "    'obs_len' : [],\\\n",
    "    'true_goal': [],\\\n",
    "    'time': [],\\\n",
    "    'posterior': []}\n",
    "\n",
    "sum_obs_dict = dict()\n",
    "problems_obs_dict = dict()\n",
    "\n",
    "for pathname in json_files:\n",
    "    filename, ext = os.path.basename(pathname).split('.')\n",
    "    tokens = filename.split('_')\n",
    "    approach = tokens[0]\n",
    "    model_type = tokens[-1]\n",
    "    data = {}\n",
    "    with open(pathname) as instream:\n",
    "        buffer = instream.read()\n",
    "        data = json.loads(buffer)\n",
    "    #print(approach, model_type, data['domain'], data['problem'], data['observability'])\n",
    "    num_goals = len(data[\"G\"])\n",
    "    true_goal = data[\"G\"].index(data['G*'])\n",
    "    likelihoods = data['P(Obs | G)']\n",
    "    \n",
    "    if data['observability'] in sum_obs_dict:\n",
    "        problems_obs_dict[data['observability']] += 1\n",
    "        sum_obs_dict[data['observability']] += len(data['Obs'])\n",
    "    else:\n",
    "        problems_obs_dict[data['observability']] = 1\n",
    "        sum_obs_dict[data['observability']] = len(data['Obs'])\n",
    "    \n",
    "    for k, prob_O_G in enumerate(likelihoods):\n",
    "        post_probs = [compute_posterior(j, prob_O_G, np.ones(num_goals)/num_goals) \\\n",
    "                     for j in range(len(data['G']))]\n",
    "        dataset['domain'] += [data['domain']]\n",
    "        dataset['problem'] += [data['problem']]\n",
    "        dataset['goals'] += [num_goals]\n",
    "        dataset['judge_point'] += [k]\n",
    "        dataset['obs_len'] += [len(data['Obs'])]\n",
    "        dataset['true_goal'] += [true_goal]\n",
    "        dataset['observability'] += [data['observability']]\n",
    "        dataset['time'] += [data['time']]\n",
    "        dataset['posterior'] += [np.array(post_probs)]\n",
    "\n",
    "avg_obs = 0.0\n",
    "sum_obs = 0.0\n",
    "avg_obs_observability = dict()\n",
    "for k in sum_obs_dict.keys():\n",
    "    avg = sum_obs_dict[k] / problems_obs_dict[k]\n",
    "    avg_obs_observability[k] = avg\n",
    "    sum_obs += avg\n",
    "    \n",
    "avg_obs = sum_obs / len(sum_obs_dict)"
   ]
  },
  {
   "cell_type": "code",
   "execution_count": 560,
   "metadata": {},
   "outputs": [],
   "source": [
    "dataset = pd.DataFrame(dataset)"
   ]
  },
  {
   "cell_type": "code",
   "execution_count": 561,
   "metadata": {},
   "outputs": [],
   "source": [
    "def compute_accuracy(dataset, top_k):\n",
    "    tp_count = 0\n",
    "    for index, row in dataset.iterrows():\n",
    "        top_k_goals = np.argpartition(row['posterior'], -top_k)[-top_k:]\n",
    "        if row['true_goal'] in top_k_goals:\n",
    "            tp_count += 1\n",
    "    return tp_count / len(dataset)"
   ]
  },
  {
   "cell_type": "code",
   "execution_count": 572,
   "metadata": {},
   "outputs": [],
   "source": [
    "def compute_recognition_time(dataset):\n",
    "    sum_time = 0\n",
    "    for index, row in dataset.iterrows():\n",
    "        sum_time += row['time']\n",
    "\n",
    "    return (sum_time / len(dataset))"
   ]
  },
  {
   "cell_type": "code",
   "execution_count": 573,
   "metadata": {},
   "outputs": [],
   "source": [
    "def compute_error_rates(dataset):\n",
    "    tpr = 0.0\n",
    "    fpr = 0.0\n",
    "    fnr = 0.0\n",
    "\n",
    "    for index, row in dataset.iterrows():\n",
    "        tp_count = 0\n",
    "        tn_count = 0\n",
    "        fp_count = 0\n",
    "        fn_count = 0\n",
    "\n",
    "        top_goal = np.argmax(row['posterior'])\n",
    "        max_goals = [ k for k, p in enumerate(row['posterior']) if p == row['posterior'][top_goal]]\n",
    "        \n",
    "        if row['true_goal'] in max_goals:\n",
    "            tp_count = 1\n",
    "        fn_count = 1 - tp_count\n",
    "        fp_count = len(max_goals) - tp_count\n",
    "        tn_count = row['goals'] - fp_count\n",
    "    \n",
    "        tpr += tp_count/(tp_count + fp_count)\n",
    "        fpr += fp_count/(fp_count + tn_count)\n",
    "        fnr += fn_count/(fn_count + tp_count)\n",
    "    return tpr/len(dataset), fpr/len(dataset), fnr/len(dataset)"
   ]
  },
  {
   "cell_type": "markdown",
   "metadata": {},
   "source": [
    "## Online Goal Recognition"
   ]
  },
  {
   "cell_type": "code",
   "execution_count": 574,
   "metadata": {},
   "outputs": [],
   "source": [
    "approaches = ['approach']\n",
    "observabilities = ['10', '25', '30', '50', '70', '75', '100']\n",
    "\n",
    "summary = {'approach': [], 'observability': [], 'top1': [], 'top2': [], 'top3': [], 'tpr' : [], 'fpr':[], 'fnr': []}\n",
    "\n",
    "for approach, observability in itertools.product(approaches, observabilities):\n",
    "    df = dataset.loc[(dataset['observability'] == observability)]\n",
    "    if len(df) == 0: \n",
    "        continue\n",
    "    top_1_acc = compute_accuracy(df, 1)\n",
    "    top_2_acc = compute_accuracy(df, 2)\n",
    "    top_3_acc = compute_accuracy(df, 3)\n",
    "    tpr, fpr, fnr = compute_error_rates(df)\n",
    "    summary['approach'] += [approach]\n",
    "    summary['observability'] += [observability]\n",
    "    summary['top1'] += [top_1_acc]\n",
    "    summary['top2'] += [top_2_acc]\n",
    "    summary['top3'] += [top_3_acc]\n",
    "    summary['tpr'] += [tpr]\n",
    "    summary['fpr'] += [fpr]\n",
    "    summary['fnr'] += [fnr]"
   ]
  },
  {
   "cell_type": "code",
   "execution_count": 575,
   "metadata": {},
   "outputs": [],
   "source": [
    "summary = pd.DataFrame(summary)"
   ]
  },
  {
   "cell_type": "code",
   "execution_count": 576,
   "metadata": {},
   "outputs": [
    {
     "data": {
      "text/html": [
       "<div>\n",
       "<style scoped>\n",
       "    .dataframe tbody tr th:only-of-type {\n",
       "        vertical-align: middle;\n",
       "    }\n",
       "\n",
       "    .dataframe tbody tr th {\n",
       "        vertical-align: top;\n",
       "    }\n",
       "\n",
       "    .dataframe thead th {\n",
       "        text-align: right;\n",
       "    }\n",
       "</style>\n",
       "<table border=\"1\" class=\"dataframe\">\n",
       "  <thead>\n",
       "    <tr style=\"text-align: right;\">\n",
       "      <th></th>\n",
       "      <th>observability</th>\n",
       "      <th>top1</th>\n",
       "      <th>top2</th>\n",
       "      <th>top3</th>\n",
       "      <th>tpr</th>\n",
       "      <th>fpr</th>\n",
       "      <th>fnr</th>\n",
       "    </tr>\n",
       "  </thead>\n",
       "  <tbody>\n",
       "    <tr>\n",
       "      <th>0</th>\n",
       "      <td>10</td>\n",
       "      <td>0.666667</td>\n",
       "      <td>1.0</td>\n",
       "      <td>1.0</td>\n",
       "      <td>0.833333</td>\n",
       "      <td>0.111111</td>\n",
       "      <td>0.0</td>\n",
       "    </tr>\n",
       "    <tr>\n",
       "      <th>1</th>\n",
       "      <td>25</td>\n",
       "      <td>0.833333</td>\n",
       "      <td>1.0</td>\n",
       "      <td>1.0</td>\n",
       "      <td>0.916667</td>\n",
       "      <td>0.055556</td>\n",
       "      <td>0.0</td>\n",
       "    </tr>\n",
       "    <tr>\n",
       "      <th>2</th>\n",
       "      <td>30</td>\n",
       "      <td>0.666667</td>\n",
       "      <td>1.0</td>\n",
       "      <td>1.0</td>\n",
       "      <td>0.833333</td>\n",
       "      <td>0.111111</td>\n",
       "      <td>0.0</td>\n",
       "    </tr>\n",
       "    <tr>\n",
       "      <th>3</th>\n",
       "      <td>50</td>\n",
       "      <td>0.750000</td>\n",
       "      <td>1.0</td>\n",
       "      <td>1.0</td>\n",
       "      <td>0.875000</td>\n",
       "      <td>0.083333</td>\n",
       "      <td>0.0</td>\n",
       "    </tr>\n",
       "    <tr>\n",
       "      <th>4</th>\n",
       "      <td>70</td>\n",
       "      <td>0.600000</td>\n",
       "      <td>1.0</td>\n",
       "      <td>1.0</td>\n",
       "      <td>0.800000</td>\n",
       "      <td>0.133333</td>\n",
       "      <td>0.0</td>\n",
       "    </tr>\n",
       "    <tr>\n",
       "      <th>5</th>\n",
       "      <td>75</td>\n",
       "      <td>0.722222</td>\n",
       "      <td>1.0</td>\n",
       "      <td>1.0</td>\n",
       "      <td>0.861111</td>\n",
       "      <td>0.092593</td>\n",
       "      <td>0.0</td>\n",
       "    </tr>\n",
       "    <tr>\n",
       "      <th>6</th>\n",
       "      <td>100</td>\n",
       "      <td>0.714286</td>\n",
       "      <td>1.0</td>\n",
       "      <td>1.0</td>\n",
       "      <td>0.857143</td>\n",
       "      <td>0.095238</td>\n",
       "      <td>0.0</td>\n",
       "    </tr>\n",
       "  </tbody>\n",
       "</table>\n",
       "</div>"
      ],
      "text/plain": [
       "  observability      top1  top2  top3       tpr       fpr  fnr\n",
       "0            10  0.666667   1.0   1.0  0.833333  0.111111  0.0\n",
       "1            25  0.833333   1.0   1.0  0.916667  0.055556  0.0\n",
       "2            30  0.666667   1.0   1.0  0.833333  0.111111  0.0\n",
       "3            50  0.750000   1.0   1.0  0.875000  0.083333  0.0\n",
       "4            70  0.600000   1.0   1.0  0.800000  0.133333  0.0\n",
       "5            75  0.722222   1.0   1.0  0.861111  0.092593  0.0\n",
       "6           100  0.714286   1.0   1.0  0.857143  0.095238  0.0"
      ]
     },
     "execution_count": 576,
     "metadata": {},
     "output_type": "execute_result"
    }
   ],
   "source": [
    "summary[['observability', 'top1', 'top2', 'top3', 'tpr', 'fpr', 'fnr']]"
   ]
  },
  {
   "cell_type": "markdown",
   "metadata": {},
   "source": [
    "## Offline Goal Recognition"
   ]
  },
  {
   "cell_type": "code",
   "execution_count": 577,
   "metadata": {
    "scrolled": true
   },
   "outputs": [],
   "source": [
    "offline = {'observability': [], 'avg_obs': [], 'time': [], 'top1': [], 'top2': [], 'top3': [], 'tpr' : [], 'fpr':[], 'fnr': []}\n",
    "\n",
    "for approach, observability in itertools.product(approaches, observabilities):\n",
    "    df = dataset.loc[(dataset['observability'] == observability)\\\n",
    "                    & (dataset['judge_point'] == dataset['obs_len'] - 1)]\n",
    "    if len(df) == 0: continue\n",
    "    top_1_acc = compute_accuracy(df, 1)\n",
    "    top_2_acc = compute_accuracy(df, 2)\n",
    "    top_3_acc = compute_accuracy(df, 3)\n",
    "    tpr, fpr, fnr = compute_error_rates(df)\n",
    "    avg_time = compute_recognition_time(df)\n",
    "    offline['observability'] += [observability]\n",
    "    offline['avg_obs'] += [avg_obs_observability[observability]]\n",
    "    offline['time'] += [avg_time]\n",
    "    offline['top1'] += [top_1_acc]\n",
    "    offline['top2'] += [top_2_acc]\n",
    "    offline['top3'] += [top_3_acc]\n",
    "    offline['tpr'] += [tpr]\n",
    "    offline['fpr'] += [fpr]\n",
    "    offline['fnr'] += [fnr]"
   ]
  },
  {
   "cell_type": "code",
   "execution_count": 578,
   "metadata": {
    "scrolled": true
   },
   "outputs": [
    {
     "data": {
      "text/html": [
       "<div>\n",
       "<style scoped>\n",
       "    .dataframe tbody tr th:only-of-type {\n",
       "        vertical-align: middle;\n",
       "    }\n",
       "\n",
       "    .dataframe tbody tr th {\n",
       "        vertical-align: top;\n",
       "    }\n",
       "\n",
       "    .dataframe thead th {\n",
       "        text-align: right;\n",
       "    }\n",
       "</style>\n",
       "<table border=\"1\" class=\"dataframe\">\n",
       "  <thead>\n",
       "    <tr style=\"text-align: right;\">\n",
       "      <th></th>\n",
       "      <th>observability</th>\n",
       "      <th>avg_obs</th>\n",
       "      <th>time</th>\n",
       "      <th>top1</th>\n",
       "      <th>top2</th>\n",
       "      <th>top3</th>\n",
       "      <th>tpr</th>\n",
       "      <th>fpr</th>\n",
       "      <th>fnr</th>\n",
       "    </tr>\n",
       "  </thead>\n",
       "  <tbody>\n",
       "    <tr>\n",
       "      <th>0</th>\n",
       "      <td>10</td>\n",
       "      <td>1.0</td>\n",
       "      <td>3.735506</td>\n",
       "      <td>0.666667</td>\n",
       "      <td>1.0</td>\n",
       "      <td>1.0</td>\n",
       "      <td>0.833333</td>\n",
       "      <td>0.111111</td>\n",
       "      <td>0.0</td>\n",
       "    </tr>\n",
       "    <tr>\n",
       "      <th>1</th>\n",
       "      <td>25</td>\n",
       "      <td>2.0</td>\n",
       "      <td>3.364115</td>\n",
       "      <td>1.000000</td>\n",
       "      <td>1.0</td>\n",
       "      <td>1.0</td>\n",
       "      <td>1.000000</td>\n",
       "      <td>0.000000</td>\n",
       "      <td>0.0</td>\n",
       "    </tr>\n",
       "    <tr>\n",
       "      <th>2</th>\n",
       "      <td>30</td>\n",
       "      <td>3.0</td>\n",
       "      <td>3.564134</td>\n",
       "      <td>1.000000</td>\n",
       "      <td>1.0</td>\n",
       "      <td>1.0</td>\n",
       "      <td>1.000000</td>\n",
       "      <td>0.000000</td>\n",
       "      <td>0.0</td>\n",
       "    </tr>\n",
       "    <tr>\n",
       "      <th>3</th>\n",
       "      <td>50</td>\n",
       "      <td>4.0</td>\n",
       "      <td>3.306316</td>\n",
       "      <td>1.000000</td>\n",
       "      <td>1.0</td>\n",
       "      <td>1.0</td>\n",
       "      <td>1.000000</td>\n",
       "      <td>0.000000</td>\n",
       "      <td>0.0</td>\n",
       "    </tr>\n",
       "    <tr>\n",
       "      <th>4</th>\n",
       "      <td>70</td>\n",
       "      <td>5.0</td>\n",
       "      <td>3.232762</td>\n",
       "      <td>1.000000</td>\n",
       "      <td>1.0</td>\n",
       "      <td>1.0</td>\n",
       "      <td>1.000000</td>\n",
       "      <td>0.000000</td>\n",
       "      <td>0.0</td>\n",
       "    </tr>\n",
       "    <tr>\n",
       "      <th>5</th>\n",
       "      <td>75</td>\n",
       "      <td>6.0</td>\n",
       "      <td>3.491696</td>\n",
       "      <td>1.000000</td>\n",
       "      <td>1.0</td>\n",
       "      <td>1.0</td>\n",
       "      <td>1.000000</td>\n",
       "      <td>0.000000</td>\n",
       "      <td>0.0</td>\n",
       "    </tr>\n",
       "    <tr>\n",
       "      <th>6</th>\n",
       "      <td>100</td>\n",
       "      <td>7.0</td>\n",
       "      <td>3.796831</td>\n",
       "      <td>1.000000</td>\n",
       "      <td>1.0</td>\n",
       "      <td>1.0</td>\n",
       "      <td>1.000000</td>\n",
       "      <td>0.000000</td>\n",
       "      <td>0.0</td>\n",
       "    </tr>\n",
       "  </tbody>\n",
       "</table>\n",
       "</div>"
      ],
      "text/plain": [
       "  observability  avg_obs      time      top1  top2  top3       tpr       fpr  \\\n",
       "0            10      1.0  3.735506  0.666667   1.0   1.0  0.833333  0.111111   \n",
       "1            25      2.0  3.364115  1.000000   1.0   1.0  1.000000  0.000000   \n",
       "2            30      3.0  3.564134  1.000000   1.0   1.0  1.000000  0.000000   \n",
       "3            50      4.0  3.306316  1.000000   1.0   1.0  1.000000  0.000000   \n",
       "4            70      5.0  3.232762  1.000000   1.0   1.0  1.000000  0.000000   \n",
       "5            75      6.0  3.491696  1.000000   1.0   1.0  1.000000  0.000000   \n",
       "6           100      7.0  3.796831  1.000000   1.0   1.0  1.000000  0.000000   \n",
       "\n",
       "   fnr  \n",
       "0  0.0  \n",
       "1  0.0  \n",
       "2  0.0  \n",
       "3  0.0  \n",
       "4  0.0  \n",
       "5  0.0  \n",
       "6  0.0  "
      ]
     },
     "execution_count": 578,
     "metadata": {},
     "output_type": "execute_result"
    }
   ],
   "source": [
    "offline = pd.DataFrame(offline)\n",
    "offline[['observability', 'avg_obs', 'time', 'top1', 'top2', 'top3', 'tpr', 'fpr', 'fnr']]"
   ]
  },
  {
   "cell_type": "code",
   "execution_count": 569,
   "metadata": {},
   "outputs": [
    {
     "name": "stdout",
     "output_type": "stream",
     "text": [
      "Average observations: 4.0\n"
     ]
    }
   ],
   "source": [
    "print('Average observations: %s' % avg_obs)"
   ]
  },
  {
   "cell_type": "markdown",
   "metadata": {
    "collapsed": true
   },
   "source": [
    "### First Observation"
   ]
  },
  {
   "cell_type": "code",
   "execution_count": 570,
   "metadata": {},
   "outputs": [],
   "source": [
    "first_obs = {'observability': [], 'top1': [], 'top2': [], 'top3': [], 'tpr' : [], 'fpr':[], 'fnr': []}\n",
    "\n",
    "for approach, observability in itertools.product(approaches, observabilities):\n",
    "    df = dataset.loc[(dataset['observability'] == observability)\\\n",
    "                    & (dataset['judge_point'] == 0)]\n",
    "    if len(df) == 0: continue\n",
    "    #print(len(df))\n",
    "    top_1_acc = compute_accuracy(df, 1)\n",
    "    top_2_acc = compute_accuracy(df, 2)\n",
    "    top_3_acc = compute_accuracy(df, 3)\n",
    "    tpr, fpr, fnr = compute_error_rates(df)\n",
    "    first_obs['observability'] += [observability]\n",
    "    first_obs['top1'] += [top_1_acc]\n",
    "    first_obs['top2'] += [top_2_acc]\n",
    "    first_obs['top3'] += [top_3_acc]\n",
    "    first_obs['tpr'] += [tpr]\n",
    "    first_obs['fpr'] += [fpr]\n",
    "    first_obs['fnr'] += [fnr]"
   ]
  },
  {
   "cell_type": "code",
   "execution_count": 571,
   "metadata": {},
   "outputs": [
    {
     "data": {
      "text/html": [
       "<div>\n",
       "<style scoped>\n",
       "    .dataframe tbody tr th:only-of-type {\n",
       "        vertical-align: middle;\n",
       "    }\n",
       "\n",
       "    .dataframe tbody tr th {\n",
       "        vertical-align: top;\n",
       "    }\n",
       "\n",
       "    .dataframe thead th {\n",
       "        text-align: right;\n",
       "    }\n",
       "</style>\n",
       "<table border=\"1\" class=\"dataframe\">\n",
       "  <thead>\n",
       "    <tr style=\"text-align: right;\">\n",
       "      <th></th>\n",
       "      <th>observability</th>\n",
       "      <th>top1</th>\n",
       "      <th>top2</th>\n",
       "      <th>top3</th>\n",
       "      <th>tpr</th>\n",
       "      <th>fpr</th>\n",
       "      <th>fnr</th>\n",
       "    </tr>\n",
       "  </thead>\n",
       "  <tbody>\n",
       "    <tr>\n",
       "      <th>0</th>\n",
       "      <td>10</td>\n",
       "      <td>0.666667</td>\n",
       "      <td>1.0</td>\n",
       "      <td>1.0</td>\n",
       "      <td>0.833333</td>\n",
       "      <td>0.111111</td>\n",
       "      <td>0.0</td>\n",
       "    </tr>\n",
       "    <tr>\n",
       "      <th>1</th>\n",
       "      <td>25</td>\n",
       "      <td>0.666667</td>\n",
       "      <td>1.0</td>\n",
       "      <td>1.0</td>\n",
       "      <td>0.833333</td>\n",
       "      <td>0.111111</td>\n",
       "      <td>0.0</td>\n",
       "    </tr>\n",
       "    <tr>\n",
       "      <th>2</th>\n",
       "      <td>30</td>\n",
       "      <td>0.000000</td>\n",
       "      <td>1.0</td>\n",
       "      <td>1.0</td>\n",
       "      <td>0.500000</td>\n",
       "      <td>0.333333</td>\n",
       "      <td>0.0</td>\n",
       "    </tr>\n",
       "    <tr>\n",
       "      <th>3</th>\n",
       "      <td>50</td>\n",
       "      <td>0.000000</td>\n",
       "      <td>1.0</td>\n",
       "      <td>1.0</td>\n",
       "      <td>0.500000</td>\n",
       "      <td>0.333333</td>\n",
       "      <td>0.0</td>\n",
       "    </tr>\n",
       "    <tr>\n",
       "      <th>4</th>\n",
       "      <td>70</td>\n",
       "      <td>0.000000</td>\n",
       "      <td>1.0</td>\n",
       "      <td>1.0</td>\n",
       "      <td>0.500000</td>\n",
       "      <td>0.333333</td>\n",
       "      <td>0.0</td>\n",
       "    </tr>\n",
       "    <tr>\n",
       "      <th>5</th>\n",
       "      <td>75</td>\n",
       "      <td>0.000000</td>\n",
       "      <td>1.0</td>\n",
       "      <td>1.0</td>\n",
       "      <td>0.500000</td>\n",
       "      <td>0.333333</td>\n",
       "      <td>0.0</td>\n",
       "    </tr>\n",
       "    <tr>\n",
       "      <th>6</th>\n",
       "      <td>100</td>\n",
       "      <td>0.000000</td>\n",
       "      <td>1.0</td>\n",
       "      <td>1.0</td>\n",
       "      <td>0.500000</td>\n",
       "      <td>0.333333</td>\n",
       "      <td>0.0</td>\n",
       "    </tr>\n",
       "  </tbody>\n",
       "</table>\n",
       "</div>"
      ],
      "text/plain": [
       "  observability      top1  top2  top3       tpr       fpr  fnr\n",
       "0            10  0.666667   1.0   1.0  0.833333  0.111111  0.0\n",
       "1            25  0.666667   1.0   1.0  0.833333  0.111111  0.0\n",
       "2            30  0.000000   1.0   1.0  0.500000  0.333333  0.0\n",
       "3            50  0.000000   1.0   1.0  0.500000  0.333333  0.0\n",
       "4            70  0.000000   1.0   1.0  0.500000  0.333333  0.0\n",
       "5            75  0.000000   1.0   1.0  0.500000  0.333333  0.0\n",
       "6           100  0.000000   1.0   1.0  0.500000  0.333333  0.0"
      ]
     },
     "execution_count": 571,
     "metadata": {},
     "output_type": "execute_result"
    }
   ],
   "source": [
    "first_obs = pd.DataFrame(first_obs)\n",
    "first_obs[['observability', 'top1', 'top2', 'top3', 'tpr', 'fpr', 'fnr']]"
   ]
  },
  {
   "cell_type": "code",
   "execution_count": null,
   "metadata": {},
   "outputs": [],
   "source": []
  },
  {
   "cell_type": "code",
   "execution_count": null,
   "metadata": {},
   "outputs": [],
   "source": []
  }
 ],
 "metadata": {
  "kernelspec": {
   "display_name": "Python 3",
   "language": "python",
   "name": "python3"
  },
  "language_info": {
   "codemirror_mode": {
    "name": "ipython",
    "version": 3
   },
   "file_extension": ".py",
   "mimetype": "text/x-python",
   "name": "python",
   "nbconvert_exporter": "python",
   "pygments_lexer": "ipython3",
   "version": "3.8.3"
  }
 },
 "nbformat": 4,
 "nbformat_minor": 2
}
