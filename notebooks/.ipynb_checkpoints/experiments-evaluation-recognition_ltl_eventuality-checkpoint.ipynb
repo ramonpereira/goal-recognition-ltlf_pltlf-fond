{
 "cells": [
  {
   "cell_type": "markdown",
   "metadata": {},
   "source": [
    "# Experimental Evaluation: \n",
    "## Goal Recognition in FOND using Goals Formalized in LTLf (Eventualities)"
   ]
  },
  {
   "cell_type": "code",
   "execution_count": 97,
   "metadata": {},
   "outputs": [],
   "source": [
    "BASE_DIR = '../fond-recognition-benchmarks'"
   ]
  },
  {
   "cell_type": "code",
   "execution_count": 98,
   "metadata": {},
   "outputs": [],
   "source": [
    "import os\n",
    "import sys\n",
    "import pandas as pd\n",
    "import glob\n",
    "import json\n",
    "import numpy as np\n",
    "import itertools"
   ]
  },
  {
   "cell_type": "code",
   "execution_count": 99,
   "metadata": {},
   "outputs": [],
   "source": [
    "def compute_posterior(index, prob, priors):\n",
    "    num = prob[index] * priors[index]\n",
    "    denom = np.sum(prob*priors)\n",
    "    return num / denom"
   ]
  },
  {
   "cell_type": "code",
   "execution_count": 100,
   "metadata": {
    "scrolled": false
   },
   "outputs": [],
   "source": [
    "RESULTS_DIR = os.path.join(BASE_DIR, 'results/')"
   ]
  },
  {
   "cell_type": "code",
   "execution_count": 101,
   "metadata": {},
   "outputs": [],
   "source": [
    "domains_evaluation = ['blocksworld', 'logistics', 'tidyup', 'tireworld', 'triangle-tireworld', 'zenotravel']\n",
    "type_goal = 'ltl_eventuality'\n",
    "json_files = []\n",
    "for domain in domains_evaluation:\n",
    "    files = glob.glob(os.path.join(RESULTS_DIR + '/' + domain + '/' + type_goal, '*.json'))\n",
    "    for f in files:\n",
    "        json_files.append(f)"
   ]
  },
  {
   "cell_type": "code",
   "execution_count": 102,
   "metadata": {},
   "outputs": [
    {
     "name": "stdout",
     "output_type": "stream",
     "text": [
      "Results found: 780\n"
     ]
    }
   ],
   "source": [
    "print(\"Results found:\", len(json_files))"
   ]
  },
  {
   "cell_type": "markdown",
   "metadata": {},
   "source": [
    "# Results Collection"
   ]
  },
  {
   "cell_type": "code",
   "execution_count": 103,
   "metadata": {},
   "outputs": [
    {
     "name": "stdout",
     "output_type": "stream",
     "text": [
      "../fond-recognition-benchmarks/results//blocksworld/ltl_eventuality/blocks-world_ltl0_p01_hyp-3_70_1.json\n",
      "blocks-world_ltl0_p01_hyp-3_70_1.json\n"
     ]
    }
   ],
   "source": [
    "print(json_files[0])\n",
    "print(os.path.basename(json_files[0]))\n",
    "filename, ext = os.path.basename(json_files[0]).split('.')"
   ]
  },
  {
   "cell_type": "code",
   "execution_count": 104,
   "metadata": {},
   "outputs": [],
   "source": [
    "tokens = filename.split('_')"
   ]
  },
  {
   "cell_type": "code",
   "execution_count": 105,
   "metadata": {},
   "outputs": [],
   "source": [
    "dataset = {\n",
    "    'domain' : [],\\\n",
    "    'problem' : [],\\\n",
    "    'observability' : [],\\\n",
    "    'goals' : [],\\\n",
    "    'judge_point' : [],\\\n",
    "    'obs_len' : [],\\\n",
    "    'true_goal': [],\\\n",
    "    'time': [],\\\n",
    "    'posterior': []}\n",
    "\n",
    "sum_obs_dict = dict()\n",
    "problems_obs_dict = dict()\n",
    "\n",
    "sum_goals = 0\n",
    "\n",
    "for pathname in json_files:\n",
    "    filename, ext = os.path.basename(pathname).split('.')\n",
    "    tokens = filename.split('_')\n",
    "    approach = tokens[0]\n",
    "    model_type = tokens[-1]\n",
    "    data = {}\n",
    "    with open(pathname) as instream:\n",
    "        buffer = instream.read()\n",
    "        data = json.loads(buffer)\n",
    "    #print(approach, model_type, data['domain'], data['problem'], data['observability'])\n",
    "    num_goals = len(data[\"G\"])\n",
    "    true_goal = data[\"G\"].index(data['G*'])\n",
    "    likelihoods = data['P(Obs | G)']\n",
    "    sum_goals += num_goals\n",
    "    if data['observability'] in sum_obs_dict:\n",
    "        problems_obs_dict[data['observability']] += 1\n",
    "        sum_obs_dict[data['observability']] += len(data['Obs'])\n",
    "    else:\n",
    "        problems_obs_dict[data['observability']] = 1\n",
    "        sum_obs_dict[data['observability']] = len(data['Obs'])\n",
    "    \n",
    "    for k, prob_O_G in enumerate(likelihoods):\n",
    "        post_probs = [compute_posterior(j, prob_O_G, np.ones(num_goals)/num_goals) \\\n",
    "                     for j in range(len(data['G']))]\n",
    "        dataset['domain'] += [data['domain']]\n",
    "        dataset['problem'] += [data['problem']]\n",
    "        dataset['goals'] += [num_goals]\n",
    "        dataset['judge_point'] += [k]\n",
    "        dataset['obs_len'] += [len(data['Obs'])]\n",
    "        dataset['true_goal'] += [true_goal]\n",
    "        dataset['observability'] += [data['observability']]\n",
    "        dataset['time'] += [data['time']]\n",
    "        dataset['posterior'] += [np.array(post_probs)]\n",
    "\n",
    "avg_obs = 0.0\n",
    "sum_obs = 0.0\n",
    "avg_obs_observability = dict()\n",
    "for k in sum_obs_dict.keys():\n",
    "    avg = sum_obs_dict[k] / problems_obs_dict[k]\n",
    "    avg_obs_observability[k] = avg\n",
    "    sum_obs += avg\n",
    "    \n",
    "avg_obs = sum_obs / len(sum_obs_dict)\n",
    "\n",
    "avg_goals = sum_goals/len(json_files)"
   ]
  },
  {
   "cell_type": "code",
   "execution_count": 106,
   "metadata": {},
   "outputs": [],
   "source": [
    "dataset = pd.DataFrame(dataset)"
   ]
  },
  {
   "cell_type": "code",
   "execution_count": 107,
   "metadata": {},
   "outputs": [],
   "source": [
    "def compute_accuracy(dataset, top_k):\n",
    "    tp_count = 0\n",
    "    for index, row in dataset.iterrows():\n",
    "        top_k_goals = np.argpartition(row['posterior'], -top_k)[-top_k:]\n",
    "        if row['true_goal'] in top_k_goals:\n",
    "            tp_count += 1\n",
    "    return tp_count / len(dataset)"
   ]
  },
  {
   "cell_type": "code",
   "execution_count": 108,
   "metadata": {},
   "outputs": [],
   "source": [
    "def compute_recognition_time(dataset):\n",
    "    sum_time = 0\n",
    "    for index, row in dataset.iterrows():\n",
    "        sum_time += row['time']\n",
    "\n",
    "    return (sum_time / len(dataset))"
   ]
  },
  {
   "cell_type": "code",
   "execution_count": 109,
   "metadata": {},
   "outputs": [],
   "source": [
    "def compute_error_rates(dataset):\n",
    "    tpr = 0.0\n",
    "    fpr = 0.0\n",
    "    fnr = 0.0\n",
    "\n",
    "    for index, row in dataset.iterrows():\n",
    "        tp_count = 0\n",
    "        tn_count = 0\n",
    "        fp_count = 0\n",
    "        fn_count = 0\n",
    "\n",
    "        top_goal = np.argmax(row['posterior'])\n",
    "        max_goals = [ k for k, p in enumerate(row['posterior']) if p == row['posterior'][top_goal]]\n",
    "        \n",
    "        if row['true_goal'] in max_goals:\n",
    "            tp_count = 1\n",
    "        fn_count = 1 - tp_count\n",
    "        fp_count = len(max_goals) - tp_count\n",
    "        tn_count = row['goals'] - fp_count\n",
    "    \n",
    "        tpr += tp_count/(tp_count + fn_count)\n",
    "        fpr += fp_count/(fp_count + tn_count)\n",
    "        fnr += fn_count/(fn_count + tp_count)\n",
    "    return tpr/len(dataset), fpr/len(dataset), fnr/len(dataset)"
   ]
  },
  {
   "cell_type": "markdown",
   "metadata": {},
   "source": [
    "## Online Goal Recognition"
   ]
  },
  {
   "cell_type": "code",
   "execution_count": 110,
   "metadata": {},
   "outputs": [],
   "source": [
    "approaches = ['approach']\n",
    "observabilities = ['10', '25', '30', '50', '70', '75', '100']\n",
    "\n",
    "summary = {'approach': [], 'observability': [], 'top1': [], 'top2': [], 'top3': [], 'tpr' : [], 'fpr':[], 'fnr': []}\n",
    "\n",
    "for approach, observability in itertools.product(approaches, observabilities):\n",
    "    df = dataset.loc[(dataset['observability'] == observability)]\n",
    "    if len(df) == 0: \n",
    "        continue\n",
    "    top_1_acc = compute_accuracy(df, 1)\n",
    "    top_2_acc = compute_accuracy(df, 2)\n",
    "    top_3_acc = compute_accuracy(df, 3)\n",
    "    tpr, fpr, fnr = compute_error_rates(df)\n",
    "    summary['approach'] += [approach]\n",
    "    summary['observability'] += [observability]\n",
    "    summary['top1'] += [top_1_acc]\n",
    "    summary['top2'] += [top_2_acc]\n",
    "    summary['top3'] += [top_3_acc]\n",
    "    summary['tpr'] += [tpr]\n",
    "    summary['fpr'] += [fpr]\n",
    "    summary['fnr'] += [fnr]"
   ]
  },
  {
   "cell_type": "code",
   "execution_count": 111,
   "metadata": {},
   "outputs": [],
   "source": [
    "summary = pd.DataFrame(summary)"
   ]
  },
  {
   "cell_type": "code",
   "execution_count": 112,
   "metadata": {},
   "outputs": [
    {
     "data": {
      "text/html": [
       "<div>\n",
       "<style scoped>\n",
       "    .dataframe tbody tr th:only-of-type {\n",
       "        vertical-align: middle;\n",
       "    }\n",
       "\n",
       "    .dataframe tbody tr th {\n",
       "        vertical-align: top;\n",
       "    }\n",
       "\n",
       "    .dataframe thead th {\n",
       "        text-align: right;\n",
       "    }\n",
       "</style>\n",
       "<table border=\"1\" class=\"dataframe\">\n",
       "  <thead>\n",
       "    <tr style=\"text-align: right;\">\n",
       "      <th></th>\n",
       "      <th>observability</th>\n",
       "      <th>top1</th>\n",
       "      <th>top2</th>\n",
       "      <th>top3</th>\n",
       "      <th>tpr</th>\n",
       "      <th>fpr</th>\n",
       "      <th>fnr</th>\n",
       "    </tr>\n",
       "  </thead>\n",
       "  <tbody>\n",
       "    <tr>\n",
       "      <th>0</th>\n",
       "      <td>10</td>\n",
       "      <td>0.514894</td>\n",
       "      <td>0.730496</td>\n",
       "      <td>0.843972</td>\n",
       "      <td>0.567376</td>\n",
       "      <td>0.135177</td>\n",
       "      <td>0.432624</td>\n",
       "    </tr>\n",
       "    <tr>\n",
       "      <th>1</th>\n",
       "      <td>30</td>\n",
       "      <td>0.505641</td>\n",
       "      <td>0.733333</td>\n",
       "      <td>0.860513</td>\n",
       "      <td>0.564615</td>\n",
       "      <td>0.136568</td>\n",
       "      <td>0.435385</td>\n",
       "    </tr>\n",
       "    <tr>\n",
       "      <th>2</th>\n",
       "      <td>50</td>\n",
       "      <td>0.503311</td>\n",
       "      <td>0.740460</td>\n",
       "      <td>0.853359</td>\n",
       "      <td>0.560706</td>\n",
       "      <td>0.137993</td>\n",
       "      <td>0.439294</td>\n",
       "    </tr>\n",
       "    <tr>\n",
       "      <th>3</th>\n",
       "      <td>70</td>\n",
       "      <td>0.499324</td>\n",
       "      <td>0.725000</td>\n",
       "      <td>0.850450</td>\n",
       "      <td>0.561937</td>\n",
       "      <td>0.139687</td>\n",
       "      <td>0.438063</td>\n",
       "    </tr>\n",
       "    <tr>\n",
       "      <th>4</th>\n",
       "      <td>100</td>\n",
       "      <td>0.498077</td>\n",
       "      <td>0.727404</td>\n",
       "      <td>0.848558</td>\n",
       "      <td>0.561058</td>\n",
       "      <td>0.139251</td>\n",
       "      <td>0.438942</td>\n",
       "    </tr>\n",
       "  </tbody>\n",
       "</table>\n",
       "</div>"
      ],
      "text/plain": [
       "  observability      top1      top2      top3       tpr       fpr       fnr\n",
       "0            10  0.514894  0.730496  0.843972  0.567376  0.135177  0.432624\n",
       "1            30  0.505641  0.733333  0.860513  0.564615  0.136568  0.435385\n",
       "2            50  0.503311  0.740460  0.853359  0.560706  0.137993  0.439294\n",
       "3            70  0.499324  0.725000  0.850450  0.561937  0.139687  0.438063\n",
       "4           100  0.498077  0.727404  0.848558  0.561058  0.139251  0.438942"
      ]
     },
     "execution_count": 112,
     "metadata": {},
     "output_type": "execute_result"
    }
   ],
   "source": [
    "summary[['observability', 'top1', 'top2', 'top3', 'tpr', 'fpr', 'fnr']]"
   ]
  },
  {
   "cell_type": "markdown",
   "metadata": {},
   "source": [
    "## Offline Goal Recognition"
   ]
  },
  {
   "cell_type": "code",
   "execution_count": 113,
   "metadata": {
    "scrolled": true
   },
   "outputs": [],
   "source": [
    "offline = {'observability': [], 'avg_obs': [], 'time': [], 'top1': [], 'top2': [], 'top3': [], 'tpr' : [], 'fpr':[], 'fnr': []}\n",
    "\n",
    "for approach, observability in itertools.product(approaches, observabilities):\n",
    "    df = dataset.loc[(dataset['observability'] == observability)\\\n",
    "                    & (dataset['judge_point'] == dataset['obs_len'] - 1)]\n",
    "    if len(df) == 0: continue\n",
    "    top_1_acc = compute_accuracy(df, 1)\n",
    "    top_2_acc = compute_accuracy(df, 2)\n",
    "    top_3_acc = compute_accuracy(df, 3)\n",
    "    tpr, fpr, fnr = compute_error_rates(df)\n",
    "    avg_time = compute_recognition_time(df)\n",
    "    offline['observability'] += [observability]\n",
    "    offline['avg_obs'] += [avg_obs_observability[observability]]\n",
    "    offline['time'] += [avg_time]\n",
    "    offline['top1'] += [top_1_acc]\n",
    "    offline['top2'] += [top_2_acc]\n",
    "    offline['top3'] += [top_3_acc]\n",
    "    offline['tpr'] += [tpr]\n",
    "    offline['fpr'] += [fpr]\n",
    "    offline['fnr'] += [fnr]"
   ]
  },
  {
   "cell_type": "code",
   "execution_count": 114,
   "metadata": {
    "scrolled": true
   },
   "outputs": [
    {
     "data": {
      "text/html": [
       "<div>\n",
       "<style scoped>\n",
       "    .dataframe tbody tr th:only-of-type {\n",
       "        vertical-align: middle;\n",
       "    }\n",
       "\n",
       "    .dataframe tbody tr th {\n",
       "        vertical-align: top;\n",
       "    }\n",
       "\n",
       "    .dataframe thead th {\n",
       "        text-align: right;\n",
       "    }\n",
       "</style>\n",
       "<table border=\"1\" class=\"dataframe\">\n",
       "  <thead>\n",
       "    <tr style=\"text-align: right;\">\n",
       "      <th></th>\n",
       "      <th>observability</th>\n",
       "      <th>avg_obs</th>\n",
       "      <th>time</th>\n",
       "      <th>top1</th>\n",
       "      <th>top2</th>\n",
       "      <th>top3</th>\n",
       "      <th>tpr</th>\n",
       "      <th>fpr</th>\n",
       "      <th>fnr</th>\n",
       "    </tr>\n",
       "  </thead>\n",
       "  <tbody>\n",
       "    <tr>\n",
       "      <th>0</th>\n",
       "      <td>10</td>\n",
       "      <td>3.916667</td>\n",
       "      <td>243.905876</td>\n",
       "      <td>0.655556</td>\n",
       "      <td>0.844444</td>\n",
       "      <td>0.927778</td>\n",
       "      <td>0.744444</td>\n",
       "      <td>0.112778</td>\n",
       "      <td>0.255556</td>\n",
       "    </tr>\n",
       "    <tr>\n",
       "      <th>1</th>\n",
       "      <td>30</td>\n",
       "      <td>10.833333</td>\n",
       "      <td>235.070979</td>\n",
       "      <td>0.744444</td>\n",
       "      <td>0.877778</td>\n",
       "      <td>0.927778</td>\n",
       "      <td>0.861111</td>\n",
       "      <td>0.101343</td>\n",
       "      <td>0.138889</td>\n",
       "    </tr>\n",
       "    <tr>\n",
       "      <th>2</th>\n",
       "      <td>50</td>\n",
       "      <td>17.616667</td>\n",
       "      <td>242.068927</td>\n",
       "      <td>0.788889</td>\n",
       "      <td>0.944444</td>\n",
       "      <td>0.972222</td>\n",
       "      <td>0.894444</td>\n",
       "      <td>0.077593</td>\n",
       "      <td>0.105556</td>\n",
       "    </tr>\n",
       "    <tr>\n",
       "      <th>3</th>\n",
       "      <td>70</td>\n",
       "      <td>24.666667</td>\n",
       "      <td>232.130767</td>\n",
       "      <td>0.788889</td>\n",
       "      <td>0.905556</td>\n",
       "      <td>0.933333</td>\n",
       "      <td>0.927778</td>\n",
       "      <td>0.083796</td>\n",
       "      <td>0.072222</td>\n",
       "    </tr>\n",
       "    <tr>\n",
       "      <th>4</th>\n",
       "      <td>100</td>\n",
       "      <td>34.666667</td>\n",
       "      <td>272.847798</td>\n",
       "      <td>0.800000</td>\n",
       "      <td>0.933333</td>\n",
       "      <td>0.966667</td>\n",
       "      <td>0.950000</td>\n",
       "      <td>0.086111</td>\n",
       "      <td>0.050000</td>\n",
       "    </tr>\n",
       "  </tbody>\n",
       "</table>\n",
       "</div>"
      ],
      "text/plain": [
       "  observability    avg_obs        time      top1      top2      top3  \\\n",
       "0            10   3.916667  243.905876  0.655556  0.844444  0.927778   \n",
       "1            30  10.833333  235.070979  0.744444  0.877778  0.927778   \n",
       "2            50  17.616667  242.068927  0.788889  0.944444  0.972222   \n",
       "3            70  24.666667  232.130767  0.788889  0.905556  0.933333   \n",
       "4           100  34.666667  272.847798  0.800000  0.933333  0.966667   \n",
       "\n",
       "        tpr       fpr       fnr  \n",
       "0  0.744444  0.112778  0.255556  \n",
       "1  0.861111  0.101343  0.138889  \n",
       "2  0.894444  0.077593  0.105556  \n",
       "3  0.927778  0.083796  0.072222  \n",
       "4  0.950000  0.086111  0.050000  "
      ]
     },
     "execution_count": 114,
     "metadata": {},
     "output_type": "execute_result"
    }
   ],
   "source": [
    "offline = pd.DataFrame(offline)\n",
    "offline[['observability', 'avg_obs', 'time', 'top1', 'top2', 'top3', 'tpr', 'fpr', 'fnr']]"
   ]
  },
  {
   "cell_type": "code",
   "execution_count": 115,
   "metadata": {},
   "outputs": [
    {
     "name": "stdout",
     "output_type": "stream",
     "text": [
      "Average observations: 18.34\n",
      "Average goals: 5.2\n"
     ]
    }
   ],
   "source": [
    "print('Average observations: %s' % avg_obs)\n",
    "print('Average goals: %s' % avg_goals)"
   ]
  },
  {
   "cell_type": "markdown",
   "metadata": {
    "collapsed": true
   },
   "source": [
    "### First Observation"
   ]
  },
  {
   "cell_type": "code",
   "execution_count": 116,
   "metadata": {},
   "outputs": [],
   "source": [
    "first_obs = {'observability': [], 'top1': [], 'top2': [], 'top3': [], 'tpr' : [], 'fpr':[], 'fnr': []}\n",
    "\n",
    "for approach, observability in itertools.product(approaches, observabilities):\n",
    "    df = dataset.loc[(dataset['observability'] == observability)\\\n",
    "                    & (dataset['judge_point'] == 0)]\n",
    "    if len(df) == 0: continue\n",
    "    #print(len(df))\n",
    "    top_1_acc = compute_accuracy(df, 1)\n",
    "    top_2_acc = compute_accuracy(df, 2)\n",
    "    top_3_acc = compute_accuracy(df, 3)\n",
    "    tpr, fpr, fnr = compute_error_rates(df)\n",
    "    first_obs['observability'] += [observability]\n",
    "    first_obs['top1'] += [top_1_acc]\n",
    "    first_obs['top2'] += [top_2_acc]\n",
    "    first_obs['top3'] += [top_3_acc]\n",
    "    first_obs['tpr'] += [tpr]\n",
    "    first_obs['fpr'] += [fpr]\n",
    "    first_obs['fnr'] += [fnr]"
   ]
  },
  {
   "cell_type": "code",
   "execution_count": 117,
   "metadata": {},
   "outputs": [
    {
     "data": {
      "text/html": [
       "<div>\n",
       "<style scoped>\n",
       "    .dataframe tbody tr th:only-of-type {\n",
       "        vertical-align: middle;\n",
       "    }\n",
       "\n",
       "    .dataframe tbody tr th {\n",
       "        vertical-align: top;\n",
       "    }\n",
       "\n",
       "    .dataframe thead th {\n",
       "        text-align: right;\n",
       "    }\n",
       "</style>\n",
       "<table border=\"1\" class=\"dataframe\">\n",
       "  <thead>\n",
       "    <tr style=\"text-align: right;\">\n",
       "      <th></th>\n",
       "      <th>observability</th>\n",
       "      <th>top1</th>\n",
       "      <th>top2</th>\n",
       "      <th>top3</th>\n",
       "      <th>tpr</th>\n",
       "      <th>fpr</th>\n",
       "      <th>fnr</th>\n",
       "    </tr>\n",
       "  </thead>\n",
       "  <tbody>\n",
       "    <tr>\n",
       "      <th>0</th>\n",
       "      <td>10</td>\n",
       "      <td>0.322222</td>\n",
       "      <td>0.550000</td>\n",
       "      <td>0.750000</td>\n",
       "      <td>0.416667</td>\n",
       "      <td>0.192593</td>\n",
       "      <td>0.583333</td>\n",
       "    </tr>\n",
       "    <tr>\n",
       "      <th>1</th>\n",
       "      <td>30</td>\n",
       "      <td>0.211111</td>\n",
       "      <td>0.450000</td>\n",
       "      <td>0.672222</td>\n",
       "      <td>0.322222</td>\n",
       "      <td>0.223981</td>\n",
       "      <td>0.677778</td>\n",
       "    </tr>\n",
       "    <tr>\n",
       "      <th>2</th>\n",
       "      <td>50</td>\n",
       "      <td>0.244444</td>\n",
       "      <td>0.411111</td>\n",
       "      <td>0.616667</td>\n",
       "      <td>0.333333</td>\n",
       "      <td>0.225741</td>\n",
       "      <td>0.666667</td>\n",
       "    </tr>\n",
       "    <tr>\n",
       "      <th>3</th>\n",
       "      <td>70</td>\n",
       "      <td>0.205556</td>\n",
       "      <td>0.377778</td>\n",
       "      <td>0.577778</td>\n",
       "      <td>0.288889</td>\n",
       "      <td>0.222963</td>\n",
       "      <td>0.711111</td>\n",
       "    </tr>\n",
       "    <tr>\n",
       "      <th>4</th>\n",
       "      <td>100</td>\n",
       "      <td>0.200000</td>\n",
       "      <td>0.383333</td>\n",
       "      <td>0.550000</td>\n",
       "      <td>0.283333</td>\n",
       "      <td>0.221111</td>\n",
       "      <td>0.716667</td>\n",
       "    </tr>\n",
       "  </tbody>\n",
       "</table>\n",
       "</div>"
      ],
      "text/plain": [
       "  observability      top1      top2      top3       tpr       fpr       fnr\n",
       "0            10  0.322222  0.550000  0.750000  0.416667  0.192593  0.583333\n",
       "1            30  0.211111  0.450000  0.672222  0.322222  0.223981  0.677778\n",
       "2            50  0.244444  0.411111  0.616667  0.333333  0.225741  0.666667\n",
       "3            70  0.205556  0.377778  0.577778  0.288889  0.222963  0.711111\n",
       "4           100  0.200000  0.383333  0.550000  0.283333  0.221111  0.716667"
      ]
     },
     "execution_count": 117,
     "metadata": {},
     "output_type": "execute_result"
    }
   ],
   "source": [
    "first_obs = pd.DataFrame(first_obs)\n",
    "first_obs[['observability', 'top1', 'top2', 'top3', 'tpr', 'fpr', 'fnr']]"
   ]
  },
  {
   "cell_type": "code",
   "execution_count": null,
   "metadata": {},
   "outputs": [],
   "source": []
  },
  {
   "cell_type": "code",
   "execution_count": null,
   "metadata": {},
   "outputs": [],
   "source": []
  }
 ],
 "metadata": {
  "kernelspec": {
   "display_name": "Python 3",
   "language": "python",
   "name": "python3"
  },
  "language_info": {
   "codemirror_mode": {
    "name": "ipython",
    "version": 3
   },
   "file_extension": ".py",
   "mimetype": "text/x-python",
   "name": "python",
   "nbconvert_exporter": "python",
   "pygments_lexer": "ipython3",
   "version": "3.8.3"
  }
 },
 "nbformat": 4,
 "nbformat_minor": 2
}
