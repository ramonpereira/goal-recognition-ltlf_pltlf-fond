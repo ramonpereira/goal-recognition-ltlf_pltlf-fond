{
 "cells": [
  {
   "cell_type": "markdown",
   "metadata": {},
   "source": [
    "# Experimental Evaluation: \n",
    "## Goal Recognition in FOND using Conjunctive Goals"
   ]
  },
  {
   "cell_type": "code",
   "execution_count": 427,
   "metadata": {},
   "outputs": [],
   "source": [
    "BASE_DIR = '../fond-recognition-benchmarks'"
   ]
  },
  {
   "cell_type": "code",
   "execution_count": 428,
   "metadata": {},
   "outputs": [],
   "source": [
    "import os\n",
    "import sys\n",
    "import pandas as pd\n",
    "import glob\n",
    "import json\n",
    "import numpy as np\n",
    "import itertools"
   ]
  },
  {
   "cell_type": "code",
   "execution_count": 429,
   "metadata": {},
   "outputs": [],
   "source": [
    "def compute_posterior(index, prob, priors):\n",
    "    num = prob[index] * priors[index]\n",
    "    denom = np.sum(prob*priors)\n",
    "    return num / denom"
   ]
  },
  {
   "cell_type": "code",
   "execution_count": 430,
   "metadata": {
    "scrolled": false
   },
   "outputs": [],
   "source": [
    "RESULTS_DIR = os.path.join(BASE_DIR, 'results/')"
   ]
  },
  {
   "cell_type": "code",
   "execution_count": 431,
   "metadata": {},
   "outputs": [],
   "source": [
    "domains_evaluation = ['blocksworld', 'logistics', 'tidyup', 'tireworld', 'triangle-tireworld', 'zenotravel']\n",
    "type_goal = 'conjunctive'\n",
    "json_files = []\n",
    "for domain in domains_evaluation:\n",
    "    files = glob.glob(os.path.join(RESULTS_DIR + '/' + domain + '/' + type_goal, '*.json'))\n",
    "    for f in files:\n",
    "        json_files.append(f)"
   ]
  },
  {
   "cell_type": "code",
   "execution_count": 432,
   "metadata": {},
   "outputs": [
    {
     "name": "stdout",
     "output_type": "stream",
     "text": [
      "Results found: 624\n"
     ]
    }
   ],
   "source": [
    "print(\"Results found:\", len(json_files))"
   ]
  },
  {
   "cell_type": "markdown",
   "metadata": {},
   "source": [
    "# Results Collection"
   ]
  },
  {
   "cell_type": "code",
   "execution_count": 433,
   "metadata": {},
   "outputs": [
    {
     "name": "stdout",
     "output_type": "stream",
     "text": [
      "../fond-recognition-benchmarks/results//logistics/conjunctive/logistics_p02_hyp-3_50_2.json\n",
      "logistics_p02_hyp-3_50_2.json\n"
     ]
    }
   ],
   "source": [
    "print(json_files[0])\n",
    "print(os.path.basename(json_files[0]))\n",
    "filename, ext = os.path.basename(json_files[0]).split('.')"
   ]
  },
  {
   "cell_type": "code",
   "execution_count": 434,
   "metadata": {},
   "outputs": [],
   "source": [
    "tokens = filename.split('_')"
   ]
  },
  {
   "cell_type": "code",
   "execution_count": 435,
   "metadata": {},
   "outputs": [],
   "source": [
    "dataset = {\n",
    "    'domain' : [],\\\n",
    "    'problem' : [],\\\n",
    "    'observability' : [],\\\n",
    "    'goals' : [],\\\n",
    "    'judge_point' : [],\\\n",
    "    'obs_len' : [],\\\n",
    "    'true_goal': [],\\\n",
    "    'time': [],\\\n",
    "    'posterior': []}\n",
    "\n",
    "sum_obs_dict = dict()\n",
    "problems_obs_dict = dict()\n",
    "\n",
    "sum_goals = 0\n",
    "\n",
    "for pathname in json_files:\n",
    "    filename, ext = os.path.basename(pathname).split('.')\n",
    "    tokens = filename.split('_')\n",
    "    approach = tokens[0]\n",
    "    model_type = tokens[-1]\n",
    "    data = {}\n",
    "    with open(pathname) as instream:\n",
    "        buffer = instream.read()\n",
    "        data = json.loads(buffer)\n",
    "    #print(approach, model_type, data['domain'], data['problem'], data['observability'])\n",
    "    num_goals = len(data[\"G\"])\n",
    "    true_goal = data[\"G\"].index(data['G*'])\n",
    "    likelihoods = data['P(Obs | G)']\n",
    "    sum_goals += num_goals\n",
    "    \n",
    "    if data['observability'] in sum_obs_dict:\n",
    "        problems_obs_dict[data['observability']] += 1\n",
    "        sum_obs_dict[data['observability']] += len(data['Obs'])\n",
    "    else:\n",
    "        problems_obs_dict[data['observability']] = 1\n",
    "        sum_obs_dict[data['observability']] = len(data['Obs'])\n",
    "    \n",
    "    for k, prob_O_G in enumerate(likelihoods):\n",
    "        post_probs = [compute_posterior(j, prob_O_G, np.ones(num_goals)/num_goals) \\\n",
    "                     for j in range(len(data['G']))]\n",
    "        dataset['domain'] += [data['domain']]\n",
    "        dataset['problem'] += [data['problem']]\n",
    "        dataset['goals'] += [num_goals]\n",
    "        dataset['judge_point'] += [k]\n",
    "        dataset['obs_len'] += [len(data['Obs'])]\n",
    "        dataset['true_goal'] += [true_goal]\n",
    "        dataset['observability'] += [data['observability']]\n",
    "        dataset['time'] += [data['time']]\n",
    "        dataset['posterior'] += [np.array(post_probs)]\n",
    "\n",
    "avg_obs = 0.0\n",
    "sum_obs = 0.0\n",
    "avg_obs_observability = dict()\n",
    "for k in sum_obs_dict.keys():\n",
    "    avg = sum_obs_dict[k] / problems_obs_dict[k]\n",
    "    avg_obs_observability[k] = avg\n",
    "    sum_obs += avg\n",
    "    \n",
    "avg_obs = sum_obs / len(sum_obs_dict)\n",
    "\n",
    "avg_goals = sum_goals/len(json_files)"
   ]
  },
  {
   "cell_type": "code",
   "execution_count": 436,
   "metadata": {},
   "outputs": [],
   "source": [
    "dataset = pd.DataFrame(dataset)"
   ]
  },
  {
   "cell_type": "code",
   "execution_count": 437,
   "metadata": {},
   "outputs": [],
   "source": [
    "def compute_accuracy(dataset, top_k):\n",
    "    tp_count = 0\n",
    "    for index, row in dataset.iterrows():\n",
    "        top_k_goals = np.argpartition(row['posterior'], -top_k)[-top_k:]\n",
    "        if row['true_goal'] in top_k_goals:\n",
    "            tp_count += 1\n",
    "    return tp_count / len(dataset)"
   ]
  },
  {
   "cell_type": "code",
   "execution_count": 438,
   "metadata": {},
   "outputs": [],
   "source": [
    "def compute_recognition_time(dataset):\n",
    "    sum_time = 0\n",
    "    for index, row in dataset.iterrows():\n",
    "        sum_time += row['time']\n",
    "\n",
    "    return (sum_time / len(dataset))"
   ]
  },
  {
   "cell_type": "code",
   "execution_count": 439,
   "metadata": {},
   "outputs": [],
   "source": [
    "def compute_error_rates(dataset):\n",
    "    tpr = 0.0\n",
    "    fpr = 0.0\n",
    "    fnr = 0.0\n",
    "\n",
    "    for index, row in dataset.iterrows():\n",
    "        tp_count = 0\n",
    "        tn_count = 0\n",
    "        fp_count = 0\n",
    "        fn_count = 0\n",
    "\n",
    "        top_goal = np.argmax(row['posterior'])\n",
    "        max_goals = [ k for k, p in enumerate(row['posterior']) if p == row['posterior'][top_goal]]\n",
    "        \n",
    "        if row['true_goal'] in max_goals:\n",
    "            tp_count = 1\n",
    "        fn_count = 1 - tp_count\n",
    "        fp_count = len(max_goals) - tp_count\n",
    "        tn_count = row['goals'] - fp_count\n",
    "    \n",
    "        tpr += tp_count/(tp_count + fn_count)\n",
    "        fpr += fp_count/(fp_count + tn_count)\n",
    "        fnr += fn_count/(fn_count + tp_count)\n",
    "    return tpr/len(dataset), fpr/len(dataset), fnr/len(dataset)"
   ]
  },
  {
   "cell_type": "markdown",
   "metadata": {},
   "source": [
    "## Online Goal Recognition"
   ]
  },
  {
   "cell_type": "code",
   "execution_count": 440,
   "metadata": {},
   "outputs": [],
   "source": [
    "approaches = ['approach']\n",
    "observabilities = ['10', '25', '30', '50', '70', '75', '100']\n",
    "\n",
    "summary = {'approach': [], 'observability': [], 'top1': [], 'top2': [], 'top3': [], 'tpr' : [], 'fpr':[], 'fnr': []}\n",
    "\n",
    "for approach, observability in itertools.product(approaches, observabilities):\n",
    "    df = dataset.loc[(dataset['observability'] == observability)]\n",
    "    if len(df) == 0: \n",
    "        continue\n",
    "    top_1_acc = compute_accuracy(df, 1)\n",
    "    top_2_acc = compute_accuracy(df, 2)\n",
    "    top_3_acc = compute_accuracy(df, 3)\n",
    "    tpr, fpr, fnr = compute_error_rates(df)\n",
    "    summary['approach'] += [approach]\n",
    "    summary['observability'] += [observability]\n",
    "    summary['top1'] += [top_1_acc]\n",
    "    summary['top2'] += [top_2_acc]\n",
    "    summary['top3'] += [top_3_acc]\n",
    "    summary['tpr'] += [tpr]\n",
    "    summary['fpr'] += [fpr]\n",
    "    summary['fnr'] += [fnr]"
   ]
  },
  {
   "cell_type": "code",
   "execution_count": 441,
   "metadata": {},
   "outputs": [],
   "source": [
    "summary = pd.DataFrame(summary)"
   ]
  },
  {
   "cell_type": "code",
   "execution_count": 442,
   "metadata": {},
   "outputs": [
    {
     "data": {
      "text/html": [
       "<div>\n",
       "<style scoped>\n",
       "    .dataframe tbody tr th:only-of-type {\n",
       "        vertical-align: middle;\n",
       "    }\n",
       "\n",
       "    .dataframe tbody tr th {\n",
       "        vertical-align: top;\n",
       "    }\n",
       "\n",
       "    .dataframe thead th {\n",
       "        text-align: right;\n",
       "    }\n",
       "</style>\n",
       "<table border=\"1\" class=\"dataframe\">\n",
       "  <thead>\n",
       "    <tr style=\"text-align: right;\">\n",
       "      <th></th>\n",
       "      <th>observability</th>\n",
       "      <th>top1</th>\n",
       "      <th>top2</th>\n",
       "      <th>top3</th>\n",
       "      <th>tpr</th>\n",
       "      <th>fpr</th>\n",
       "      <th>fnr</th>\n",
       "    </tr>\n",
       "  </thead>\n",
       "  <tbody>\n",
       "    <tr>\n",
       "      <th>0</th>\n",
       "      <td>10</td>\n",
       "      <td>0.473588</td>\n",
       "      <td>0.683060</td>\n",
       "      <td>0.814208</td>\n",
       "      <td>0.581056</td>\n",
       "      <td>0.168306</td>\n",
       "      <td>0.418944</td>\n",
       "    </tr>\n",
       "    <tr>\n",
       "      <th>1</th>\n",
       "      <td>30</td>\n",
       "      <td>0.483787</td>\n",
       "      <td>0.722438</td>\n",
       "      <td>0.846952</td>\n",
       "      <td>0.570687</td>\n",
       "      <td>0.153421</td>\n",
       "      <td>0.429313</td>\n",
       "    </tr>\n",
       "    <tr>\n",
       "      <th>2</th>\n",
       "      <td>50</td>\n",
       "      <td>0.473182</td>\n",
       "      <td>0.717918</td>\n",
       "      <td>0.850219</td>\n",
       "      <td>0.571712</td>\n",
       "      <td>0.161181</td>\n",
       "      <td>0.428288</td>\n",
       "    </tr>\n",
       "    <tr>\n",
       "      <th>3</th>\n",
       "      <td>70</td>\n",
       "      <td>0.474816</td>\n",
       "      <td>0.718732</td>\n",
       "      <td>0.850594</td>\n",
       "      <td>0.568478</td>\n",
       "      <td>0.160734</td>\n",
       "      <td>0.431522</td>\n",
       "    </tr>\n",
       "    <tr>\n",
       "      <th>4</th>\n",
       "      <td>100</td>\n",
       "      <td>0.466707</td>\n",
       "      <td>0.711259</td>\n",
       "      <td>0.841404</td>\n",
       "      <td>0.565375</td>\n",
       "      <td>0.160926</td>\n",
       "      <td>0.434625</td>\n",
       "    </tr>\n",
       "  </tbody>\n",
       "</table>\n",
       "</div>"
      ],
      "text/plain": [
       "  observability      top1      top2      top3       tpr       fpr       fnr\n",
       "0            10  0.473588  0.683060  0.814208  0.581056  0.168306  0.418944\n",
       "1            30  0.483787  0.722438  0.846952  0.570687  0.153421  0.429313\n",
       "2            50  0.473182  0.717918  0.850219  0.571712  0.161181  0.428288\n",
       "3            70  0.474816  0.718732  0.850594  0.568478  0.160734  0.431522\n",
       "4           100  0.466707  0.711259  0.841404  0.565375  0.160926  0.434625"
      ]
     },
     "execution_count": 442,
     "metadata": {},
     "output_type": "execute_result"
    }
   ],
   "source": [
    "summary[['observability', 'top1', 'top2', 'top3', 'tpr', 'fpr', 'fnr']]"
   ]
  },
  {
   "cell_type": "markdown",
   "metadata": {},
   "source": [
    "## Offline Goal Recognition"
   ]
  },
  {
   "cell_type": "code",
   "execution_count": 443,
   "metadata": {
    "scrolled": true
   },
   "outputs": [],
   "source": [
    "offline = {'observability': [], 'avg_obs': [], 'time': [], 'top1': [], 'top2': [], 'top3': [], 'tpr' : [], 'fpr':[], 'fnr': []}\n",
    "\n",
    "for approach, observability in itertools.product(approaches, observabilities):\n",
    "    df = dataset.loc[(dataset['observability'] == observability)\\\n",
    "                    & (dataset['judge_point'] == dataset['obs_len'] - 1)]\n",
    "    if len(df) == 0: continue\n",
    "    top_1_acc = compute_accuracy(df, 1)\n",
    "    top_2_acc = compute_accuracy(df, 2)\n",
    "    top_3_acc = compute_accuracy(df, 3)\n",
    "    tpr, fpr, fnr = compute_error_rates(df)\n",
    "    avg_time = compute_recognition_time(df)\n",
    "    offline['observability'] += [observability]\n",
    "    offline['avg_obs'] += [avg_obs_observability[observability]]\n",
    "    offline['time'] += [avg_time]\n",
    "    offline['top1'] += [top_1_acc]\n",
    "    offline['top2'] += [top_2_acc]\n",
    "    offline['top3'] += [top_3_acc]\n",
    "    offline['tpr'] += [tpr]\n",
    "    offline['fpr'] += [fpr]\n",
    "    offline['fnr'] += [fnr]"
   ]
  },
  {
   "cell_type": "code",
   "execution_count": 444,
   "metadata": {
    "scrolled": true
   },
   "outputs": [
    {
     "data": {
      "text/html": [
       "<div>\n",
       "<style scoped>\n",
       "    .dataframe tbody tr th:only-of-type {\n",
       "        vertical-align: middle;\n",
       "    }\n",
       "\n",
       "    .dataframe tbody tr th {\n",
       "        vertical-align: top;\n",
       "    }\n",
       "\n",
       "    .dataframe thead th {\n",
       "        text-align: right;\n",
       "    }\n",
       "</style>\n",
       "<table border=\"1\" class=\"dataframe\">\n",
       "  <thead>\n",
       "    <tr style=\"text-align: right;\">\n",
       "      <th></th>\n",
       "      <th>observability</th>\n",
       "      <th>avg_obs</th>\n",
       "      <th>time</th>\n",
       "      <th>top1</th>\n",
       "      <th>top2</th>\n",
       "      <th>top3</th>\n",
       "      <th>tpr</th>\n",
       "      <th>fpr</th>\n",
       "      <th>fnr</th>\n",
       "    </tr>\n",
       "  </thead>\n",
       "  <tbody>\n",
       "    <tr>\n",
       "      <th>0</th>\n",
       "      <td>10</td>\n",
       "      <td>3.812500</td>\n",
       "      <td>228.044241</td>\n",
       "      <td>0.527778</td>\n",
       "      <td>0.777778</td>\n",
       "      <td>0.881944</td>\n",
       "      <td>0.736111</td>\n",
       "      <td>0.166030</td>\n",
       "      <td>0.263889</td>\n",
       "    </tr>\n",
       "    <tr>\n",
       "      <th>1</th>\n",
       "      <td>30</td>\n",
       "      <td>10.708333</td>\n",
       "      <td>225.579194</td>\n",
       "      <td>0.756944</td>\n",
       "      <td>0.923611</td>\n",
       "      <td>0.958333</td>\n",
       "      <td>0.847222</td>\n",
       "      <td>0.074769</td>\n",
       "      <td>0.152778</td>\n",
       "    </tr>\n",
       "    <tr>\n",
       "      <th>2</th>\n",
       "      <td>50</td>\n",
       "      <td>17.479167</td>\n",
       "      <td>227.090728</td>\n",
       "      <td>0.743056</td>\n",
       "      <td>0.937500</td>\n",
       "      <td>0.958333</td>\n",
       "      <td>0.847222</td>\n",
       "      <td>0.071701</td>\n",
       "      <td>0.152778</td>\n",
       "    </tr>\n",
       "    <tr>\n",
       "      <th>3</th>\n",
       "      <td>70</td>\n",
       "      <td>24.541667</td>\n",
       "      <td>226.315084</td>\n",
       "      <td>0.770833</td>\n",
       "      <td>0.909722</td>\n",
       "      <td>0.937500</td>\n",
       "      <td>0.881944</td>\n",
       "      <td>0.069097</td>\n",
       "      <td>0.118056</td>\n",
       "    </tr>\n",
       "    <tr>\n",
       "      <th>4</th>\n",
       "      <td>100</td>\n",
       "      <td>34.416667</td>\n",
       "      <td>229.580344</td>\n",
       "      <td>0.770833</td>\n",
       "      <td>0.895833</td>\n",
       "      <td>0.916667</td>\n",
       "      <td>0.875000</td>\n",
       "      <td>0.067708</td>\n",
       "      <td>0.125000</td>\n",
       "    </tr>\n",
       "  </tbody>\n",
       "</table>\n",
       "</div>"
      ],
      "text/plain": [
       "  observability    avg_obs        time      top1      top2      top3  \\\n",
       "0            10   3.812500  228.044241  0.527778  0.777778  0.881944   \n",
       "1            30  10.708333  225.579194  0.756944  0.923611  0.958333   \n",
       "2            50  17.479167  227.090728  0.743056  0.937500  0.958333   \n",
       "3            70  24.541667  226.315084  0.770833  0.909722  0.937500   \n",
       "4           100  34.416667  229.580344  0.770833  0.895833  0.916667   \n",
       "\n",
       "        tpr       fpr       fnr  \n",
       "0  0.736111  0.166030  0.263889  \n",
       "1  0.847222  0.074769  0.152778  \n",
       "2  0.847222  0.071701  0.152778  \n",
       "3  0.881944  0.069097  0.118056  \n",
       "4  0.875000  0.067708  0.125000  "
      ]
     },
     "execution_count": 444,
     "metadata": {},
     "output_type": "execute_result"
    }
   ],
   "source": [
    "offline = pd.DataFrame(offline)\n",
    "offline[['observability', 'avg_obs', 'time', 'top1', 'top2', 'top3', 'tpr', 'fpr', 'fnr']]"
   ]
  },
  {
   "cell_type": "code",
   "execution_count": 445,
   "metadata": {},
   "outputs": [
    {
     "name": "stdout",
     "output_type": "stream",
     "text": [
      "Average observations: 18.19166666666667\n",
      "Average goals: 5.0\n"
     ]
    }
   ],
   "source": [
    "print('Average observations: %s' % avg_obs)\n",
    "print('Average goals: %s' % avg_goals)"
   ]
  },
  {
   "cell_type": "code",
   "execution_count": 446,
   "metadata": {},
   "outputs": [],
   "source": [
    "columns = ['observability', 'avg_obs', 'time', 'tpr', 'fpr', 'fnr']\n",
    "summary4tex = offline[columns]\n",
    "with open('summary-conjuctive.tex','w') as output :\n",
    "    summary4tex.to_latex(buf=output,index=False,float_format=lambda x : '{:.2f}'.format(x))"
   ]
  },
  {
   "cell_type": "markdown",
   "metadata": {
    "collapsed": true
   },
   "source": [
    "### First Observation"
   ]
  },
  {
   "cell_type": "code",
   "execution_count": 447,
   "metadata": {},
   "outputs": [],
   "source": [
    "first_obs = {'observability': [], 'top1': [], 'top2': [], 'top3': [], 'tpr' : [], 'fpr':[], 'fnr': []}\n",
    "\n",
    "for approach, observability in itertools.product(approaches, observabilities):\n",
    "    df = dataset.loc[(dataset['observability'] == observability)\\\n",
    "                    & (dataset['judge_point'] == 0)]\n",
    "    if len(df) == 0: continue\n",
    "    #print(len(df))\n",
    "    top_1_acc = compute_accuracy(df, 1)\n",
    "    top_2_acc = compute_accuracy(df, 2)\n",
    "    top_3_acc = compute_accuracy(df, 3)\n",
    "    tpr, fpr, fnr = compute_error_rates(df)\n",
    "    first_obs['observability'] += [observability]\n",
    "    first_obs['top1'] += [top_1_acc]\n",
    "    first_obs['top2'] += [top_2_acc]\n",
    "    first_obs['top3'] += [top_3_acc]\n",
    "    first_obs['tpr'] += [tpr]\n",
    "    first_obs['fpr'] += [fpr]\n",
    "    first_obs['fnr'] += [fnr]"
   ]
  },
  {
   "cell_type": "code",
   "execution_count": 448,
   "metadata": {},
   "outputs": [
    {
     "data": {
      "text/html": [
       "<div>\n",
       "<style scoped>\n",
       "    .dataframe tbody tr th:only-of-type {\n",
       "        vertical-align: middle;\n",
       "    }\n",
       "\n",
       "    .dataframe tbody tr th {\n",
       "        vertical-align: top;\n",
       "    }\n",
       "\n",
       "    .dataframe thead th {\n",
       "        text-align: right;\n",
       "    }\n",
       "</style>\n",
       "<table border=\"1\" class=\"dataframe\">\n",
       "  <thead>\n",
       "    <tr style=\"text-align: right;\">\n",
       "      <th></th>\n",
       "      <th>observability</th>\n",
       "      <th>top1</th>\n",
       "      <th>top2</th>\n",
       "      <th>top3</th>\n",
       "      <th>tpr</th>\n",
       "      <th>fpr</th>\n",
       "      <th>fnr</th>\n",
       "    </tr>\n",
       "  </thead>\n",
       "  <tbody>\n",
       "    <tr>\n",
       "      <th>0</th>\n",
       "      <td>10</td>\n",
       "      <td>0.277778</td>\n",
       "      <td>0.472222</td>\n",
       "      <td>0.659722</td>\n",
       "      <td>0.430556</td>\n",
       "      <td>0.242708</td>\n",
       "      <td>0.569444</td>\n",
       "    </tr>\n",
       "    <tr>\n",
       "      <th>1</th>\n",
       "      <td>30</td>\n",
       "      <td>0.166667</td>\n",
       "      <td>0.402778</td>\n",
       "      <td>0.625000</td>\n",
       "      <td>0.298611</td>\n",
       "      <td>0.241551</td>\n",
       "      <td>0.701389</td>\n",
       "    </tr>\n",
       "    <tr>\n",
       "      <th>2</th>\n",
       "      <td>50</td>\n",
       "      <td>0.173611</td>\n",
       "      <td>0.409722</td>\n",
       "      <td>0.652778</td>\n",
       "      <td>0.312500</td>\n",
       "      <td>0.254282</td>\n",
       "      <td>0.687500</td>\n",
       "    </tr>\n",
       "    <tr>\n",
       "      <th>3</th>\n",
       "      <td>70</td>\n",
       "      <td>0.180556</td>\n",
       "      <td>0.430556</td>\n",
       "      <td>0.645833</td>\n",
       "      <td>0.305556</td>\n",
       "      <td>0.232118</td>\n",
       "      <td>0.694444</td>\n",
       "    </tr>\n",
       "    <tr>\n",
       "      <th>4</th>\n",
       "      <td>100</td>\n",
       "      <td>0.187500</td>\n",
       "      <td>0.437500</td>\n",
       "      <td>0.645833</td>\n",
       "      <td>0.312500</td>\n",
       "      <td>0.228646</td>\n",
       "      <td>0.687500</td>\n",
       "    </tr>\n",
       "  </tbody>\n",
       "</table>\n",
       "</div>"
      ],
      "text/plain": [
       "  observability      top1      top2      top3       tpr       fpr       fnr\n",
       "0            10  0.277778  0.472222  0.659722  0.430556  0.242708  0.569444\n",
       "1            30  0.166667  0.402778  0.625000  0.298611  0.241551  0.701389\n",
       "2            50  0.173611  0.409722  0.652778  0.312500  0.254282  0.687500\n",
       "3            70  0.180556  0.430556  0.645833  0.305556  0.232118  0.694444\n",
       "4           100  0.187500  0.437500  0.645833  0.312500  0.228646  0.687500"
      ]
     },
     "execution_count": 448,
     "metadata": {},
     "output_type": "execute_result"
    }
   ],
   "source": [
    "first_obs = pd.DataFrame(first_obs)\n",
    "first_obs[['observability', 'top1', 'top2', 'top3', 'tpr', 'fpr', 'fnr']]"
   ]
  },
  {
   "cell_type": "code",
   "execution_count": null,
   "metadata": {},
   "outputs": [],
   "source": []
  },
  {
   "cell_type": "code",
   "execution_count": null,
   "metadata": {},
   "outputs": [],
   "source": []
  }
 ],
 "metadata": {
  "kernelspec": {
   "display_name": "Python 3",
   "language": "python",
   "name": "python3"
  },
  "language_info": {
   "codemirror_mode": {
    "name": "ipython",
    "version": 3
   },
   "file_extension": ".py",
   "mimetype": "text/x-python",
   "name": "python",
   "nbconvert_exporter": "python",
   "pygments_lexer": "ipython3",
   "version": "3.8.3"
  }
 },
 "nbformat": 4,
 "nbformat_minor": 2
}
